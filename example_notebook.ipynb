{
 "cells": [
  {
   "cell_type": "markdown",
   "metadata": {
    "application/vnd.databricks.v1+cell": {
     "cellMetadata": {},
     "inputWidgets": {},
     "nuid": "e6c37eb3-b073-43db-959a-abe3079e9617",
     "showTitle": false,
     "tableResultSettingsMap": {},
     "title": ""
    }
   },
   "source": [
    "## Getting Started with Databricks at Daert Academy\n",
    "### Getting used to the Databricks Web UI\n",
    "This video will cover the different sections of the Web UI in the Databricks platform. We are using the Community Edition for the purpose of recording the course and showing the main functionalities. Production environments should not be run on the Community Edition.\n",
    "\n",
    "### Main sections\n",
    "- Workspace: where all the files, notebook, the data catalog and a place to edit the notebooks is found\n",
    "- Catalog: provides a view of the data catalog in te Databricks platform of the user\n",
    "- Compute: provides a management UI for the Spark Clusters\n"
   ]
  },
  {
   "cell_type": "code",
   "execution_count": 0,
   "metadata": {
    "application/vnd.databricks.v1+cell": {
     "cellMetadata": {
      "byteLimit": 2048000,
      "rowLimit": 10000
     },
     "inputWidgets": {},
     "nuid": "5fd1a44b-f4ba-4579-9b75-66a1e6d001a1",
     "showTitle": false,
     "tableResultSettingsMap": {},
     "title": ""
    }
   },
   "outputs": [
    {
     "output_type": "stream",
     "name": "stderr",
     "output_type": "stream",
     "text": [
      "None of PyTorch, TensorFlow >= 2.0, or Flax have been found. Models won't be available and only tokenizers, configuration and file/data utilities can be used.\n"
     ]
    }
   ],
   "source": [
    "import transformers"
   ]
  },
  {
   "cell_type": "code",
   "execution_count": 0,
   "metadata": {
    "application/vnd.databricks.v1+cell": {
     "cellMetadata": {
      "byteLimit": 2048000,
      "rowLimit": 10000
     },
     "inputWidgets": {},
     "nuid": "ca476efe-9634-41be-b54b-6dcea710cfb4",
     "showTitle": false,
     "tableResultSettingsMap": {},
     "title": ""
    }
   },
   "outputs": [
    {
     "output_type": "stream",
     "name": "stdout",
     "output_type": "stream",
     "text": [
      "Python interpreter will be restarted.\nCollecting transformers\n  Using cached transformers-4.48.0-py3-none-any.whl (9.7 MB)\nRequirement already satisfied: tokenizers<0.22,>=0.21 in /local_disk0/.ephemeral_nfs/envs/pythonEnv-c7396de7-516a-40ea-95d7-f6bfa2ee34a8/lib/python3.9/site-packages (from transformers) (0.21.0)\nRequirement already satisfied: regex!=2019.12.17 in /local_disk0/.ephemeral_nfs/envs/pythonEnv-c7396de7-516a-40ea-95d7-f6bfa2ee34a8/lib/python3.9/site-packages (from transformers) (2024.11.6)\nRequirement already satisfied: requests in /databricks/python3/lib/python3.9/site-packages (from transformers) (2.27.1)\nRequirement already satisfied: packaging>=20.0 in /databricks/python3/lib/python3.9/site-packages (from transformers) (21.3)\nRequirement already satisfied: numpy>=1.17 in /databricks/python3/lib/python3.9/site-packages (from transformers) (1.21.5)\nRequirement already satisfied: huggingface-hub<1.0,>=0.24.0 in /local_disk0/.ephemeral_nfs/envs/pythonEnv-c7396de7-516a-40ea-95d7-f6bfa2ee34a8/lib/python3.9/site-packages (from transformers) (0.27.1)\nRequirement already satisfied: tqdm>=4.27 in /local_disk0/.ephemeral_nfs/envs/pythonEnv-c7396de7-516a-40ea-95d7-f6bfa2ee34a8/lib/python3.9/site-packages (from transformers) (4.67.1)\nRequirement already satisfied: filelock in /usr/local/lib/python3.9/dist-packages (from transformers) (3.9.0)\nRequirement already satisfied: safetensors>=0.4.1 in /local_disk0/.ephemeral_nfs/envs/pythonEnv-c7396de7-516a-40ea-95d7-f6bfa2ee34a8/lib/python3.9/site-packages (from transformers) (0.5.2)\nRequirement already satisfied: pyyaml>=5.1 in /local_disk0/.ephemeral_nfs/envs/pythonEnv-c7396de7-516a-40ea-95d7-f6bfa2ee34a8/lib/python3.9/site-packages (from transformers) (6.0.2)\nRequirement already satisfied: typing-extensions>=3.7.4.3 in /databricks/python3/lib/python3.9/site-packages (from huggingface-hub<1.0,>=0.24.0->transformers) (4.1.1)\nRequirement already satisfied: fsspec>=2023.5.0 in /local_disk0/.ephemeral_nfs/envs/pythonEnv-c7396de7-516a-40ea-95d7-f6bfa2ee34a8/lib/python3.9/site-packages (from huggingface-hub<1.0,>=0.24.0->transformers) (2024.12.0)\nRequirement already satisfied: pyparsing!=3.0.5,>=2.0.2 in /databricks/python3/lib/python3.9/site-packages (from packaging>=20.0->transformers) (3.0.4)\nRequirement already satisfied: charset-normalizer~=2.0.0 in /databricks/python3/lib/python3.9/site-packages (from requests->transformers) (2.0.4)\nRequirement already satisfied: idna<4,>=2.5 in /databricks/python3/lib/python3.9/site-packages (from requests->transformers) (3.3)\nRequirement already satisfied: certifi>=2017.4.17 in /databricks/python3/lib/python3.9/site-packages (from requests->transformers) (2021.10.8)\nRequirement already satisfied: urllib3<1.27,>=1.21.1 in /databricks/python3/lib/python3.9/site-packages (from requests->transformers) (1.26.9)\nInstalling collected packages: transformers\nSuccessfully installed transformers-4.48.0\nPython interpreter will be restarted.\n"
     ]
    }
   ],
   "source": [
    "%pip install transformers"
   ]
  },
  {
   "cell_type": "code",
   "execution_count": 0,
   "metadata": {
    "application/vnd.databricks.v1+cell": {
     "cellMetadata": {
      "byteLimit": 2048000,
      "rowLimit": 10000
     },
     "inputWidgets": {},
     "nuid": "046322da-d899-48e0-bb54-2626e313964d",
     "showTitle": false,
     "tableResultSettingsMap": {},
     "title": ""
    }
   },
   "outputs": [
    {
     "output_type": "stream",
     "name": "stdout",
     "output_type": "stream",
     "text": [
      "hi\n"
     ]
    }
   ],
   "source": [
    "print(\"hi\")"
   ]
  },
  {
   "cell_type": "code",
   "execution_count": 0,
   "metadata": {
    "application/vnd.databricks.v1+cell": {
     "cellMetadata": {
      "byteLimit": 2048000,
      "implicitDf": true,
      "rowLimit": 10000
     },
     "inputWidgets": {},
     "nuid": "1bff6ef7-7828-4ede-ac86-a40ae58401fd",
     "showTitle": false,
     "tableResultSettingsMap": {},
     "title": ""
    }
   },
   "outputs": [
    {
     "output_type": "display_data",
     "data": {
      "text/html": [
       "<style scoped>\n",
       "  .table-result-container {\n",
       "    max-height: 300px;\n",
       "    overflow: auto;\n",
       "  }\n",
       "  table, th, td {\n",
       "    border: 1px solid black;\n",
       "    border-collapse: collapse;\n",
       "  }\n",
       "  th, td {\n",
       "    padding: 5px;\n",
       "  }\n",
       "  th {\n",
       "    text-align: left;\n",
       "  }\n",
       "</style><div class='table-result-container'><table class='table-result'><thead style='background-color: white'><tr><th>count(1)</th></tr></thead><tbody><tr><td>21932</td></tr></tbody></table></div>"
      ]
     },
     "metadata": {
      "application/vnd.databricks.v1+output": {
       "addedWidgets": {},
       "aggData": [],
       "aggError": "",
       "aggOverflow": false,
       "aggSchema": [],
       "aggSeriesLimitReached": false,
       "aggType": "",
       "arguments": {},
       "columnCustomDisplayInfos": {},
       "data": [
        [
         21932
        ]
       ],
       "datasetInfos": [],
       "dbfsResultPath": null,
       "isJsonSchema": true,
       "metadata": {},
       "overflow": false,
       "plotOptions": {
        "customPlotOptions": {},
        "displayType": "table",
        "pivotAggregation": null,
        "pivotColumns": null,
        "xColumns": null,
        "yColumns": null
       },
       "removedWidgets": [],
       "schema": [
        {
         "metadata": "{\"__autoGeneratedAlias\":\"true\"}",
         "name": "count(1)",
         "type": "\"long\""
        }
       ],
       "type": "table"
      }
     },
     "output_type": "display_data"
    }
   ],
   "source": [
    "%sql\n",
    "SELECT count(*) FROM samples.nyctaxi.trips;"
   ]
  },
  {
   "cell_type": "code",
   "execution_count": 0,
   "metadata": {
    "application/vnd.databricks.v1+cell": {
     "cellMetadata": {
      "byteLimit": 2048000,
      "rowLimit": 10000
     },
     "inputWidgets": {},
     "nuid": "dfa3ecfa-7102-4b44-8e43-ff387810d1c8",
     "showTitle": false,
     "tableResultSettingsMap": {},
     "title": ""
    }
   },
   "outputs": [
    {
     "output_type": "display_data",
     "data": {
      "text/html": [
       "<style scoped>\n",
       "  .table-result-container {\n",
       "    max-height: 300px;\n",
       "    overflow: auto;\n",
       "  }\n",
       "  table, th, td {\n",
       "    border: 1px solid black;\n",
       "    border-collapse: collapse;\n",
       "  }\n",
       "  th, td {\n",
       "    padding: 5px;\n",
       "  }\n",
       "  th {\n",
       "    text-align: left;\n",
       "  }\n",
       "</style><div class='table-result-container'><table class='table-result'><thead style='background-color: white'><tr><th>path</th><th>name</th><th>size</th><th>modificationTime</th></tr></thead><tbody><tr><td>dbfs:/databricks-datasets/nyctaxi/tripdata/yellow/yellow_tripdata_2009-01.csv.gz</td><td>yellow_tripdata_2009-01.csv.gz</td><td>504262564</td><td>1590475761000</td></tr><tr><td>dbfs:/databricks-datasets/nyctaxi/tripdata/yellow/yellow_tripdata_2009-02.csv.gz</td><td>yellow_tripdata_2009-02.csv.gz</td><td>480034681</td><td>1590475761000</td></tr><tr><td>dbfs:/databricks-datasets/nyctaxi/tripdata/yellow/yellow_tripdata_2009-03.csv.gz</td><td>yellow_tripdata_2009-03.csv.gz</td><td>521102719</td><td>1590475761000</td></tr><tr><td>dbfs:/databricks-datasets/nyctaxi/tripdata/yellow/yellow_tripdata_2009-04.csv.gz</td><td>yellow_tripdata_2009-04.csv.gz</td><td>515435466</td><td>1590475761000</td></tr><tr><td>dbfs:/databricks-datasets/nyctaxi/tripdata/yellow/yellow_tripdata_2009-05.csv.gz</td><td>yellow_tripdata_2009-05.csv.gz</td><td>531133739</td><td>1590475761000</td></tr><tr><td>dbfs:/databricks-datasets/nyctaxi/tripdata/yellow/yellow_tripdata_2009-06.csv.gz</td><td>yellow_tripdata_2009-06.csv.gz</td><td>508802995</td><td>1590508850000</td></tr><tr><td>dbfs:/databricks-datasets/nyctaxi/tripdata/yellow/yellow_tripdata_2009-07.csv.gz</td><td>yellow_tripdata_2009-07.csv.gz</td><td>487731497</td><td>1590508850000</td></tr><tr><td>dbfs:/databricks-datasets/nyctaxi/tripdata/yellow/yellow_tripdata_2009-08.csv.gz</td><td>yellow_tripdata_2009-08.csv.gz</td><td>490825210</td><td>1590508850000</td></tr><tr><td>dbfs:/databricks-datasets/nyctaxi/tripdata/yellow/yellow_tripdata_2009-09.csv.gz</td><td>yellow_tripdata_2009-09.csv.gz</td><td>503121179</td><td>1590508850000</td></tr><tr><td>dbfs:/databricks-datasets/nyctaxi/tripdata/yellow/yellow_tripdata_2009-10.csv.gz</td><td>yellow_tripdata_2009-10.csv.gz</td><td>567109604</td><td>1590508850000</td></tr><tr><td>dbfs:/databricks-datasets/nyctaxi/tripdata/yellow/yellow_tripdata_2009-11.csv.gz</td><td>yellow_tripdata_2009-11.csv.gz</td><td>520260634</td><td>1590509194000</td></tr><tr><td>dbfs:/databricks-datasets/nyctaxi/tripdata/yellow/yellow_tripdata_2009-12.csv.gz</td><td>yellow_tripdata_2009-12.csv.gz</td><td>530726595</td><td>1590509195000</td></tr><tr><td>dbfs:/databricks-datasets/nyctaxi/tripdata/yellow/yellow_tripdata_2010-01.csv.gz</td><td>yellow_tripdata_2010-01.csv.gz</td><td>565548417</td><td>1590509195000</td></tr><tr><td>dbfs:/databricks-datasets/nyctaxi/tripdata/yellow/yellow_tripdata_2010-02.csv.gz</td><td>yellow_tripdata_2010-02.csv.gz</td><td>396576504</td><td>1590509211000</td></tr><tr><td>dbfs:/databricks-datasets/nyctaxi/tripdata/yellow/yellow_tripdata_2010-03.csv.gz</td><td>yellow_tripdata_2010-03.csv.gz</td><td>456086101</td><td>1590509246000</td></tr><tr><td>dbfs:/databricks-datasets/nyctaxi/tripdata/yellow/yellow_tripdata_2010-04.csv.gz</td><td>yellow_tripdata_2010-04.csv.gz</td><td>579400917</td><td>1590509507000</td></tr><tr><td>dbfs:/databricks-datasets/nyctaxi/tripdata/yellow/yellow_tripdata_2010-05.csv.gz</td><td>yellow_tripdata_2010-05.csv.gz</td><td>593525883</td><td>1590509556000</td></tr><tr><td>dbfs:/databricks-datasets/nyctaxi/tripdata/yellow/yellow_tripdata_2010-06.csv.gz</td><td>yellow_tripdata_2010-06.csv.gz</td><td>568228308</td><td>1590509559000</td></tr><tr><td>dbfs:/databricks-datasets/nyctaxi/tripdata/yellow/yellow_tripdata_2010-07.csv.gz</td><td>yellow_tripdata_2010-07.csv.gz</td><td>562093150</td><td>1590509578000</td></tr><tr><td>dbfs:/databricks-datasets/nyctaxi/tripdata/yellow/yellow_tripdata_2010-08.csv.gz</td><td>yellow_tripdata_2010-08.csv.gz</td><td>441394152</td><td>1590509580000</td></tr><tr><td>dbfs:/databricks-datasets/nyctaxi/tripdata/yellow/yellow_tripdata_2010-09.csv.gz</td><td>yellow_tripdata_2010-09.csv.gz</td><td>560174405</td><td>1590509894000</td></tr><tr><td>dbfs:/databricks-datasets/nyctaxi/tripdata/yellow/yellow_tripdata_2010-10.csv.gz</td><td>yellow_tripdata_2010-10.csv.gz</td><td>515205924</td><td>1590509913000</td></tr><tr><td>dbfs:/databricks-datasets/nyctaxi/tripdata/yellow/yellow_tripdata_2010-11.csv.gz</td><td>yellow_tripdata_2010-11.csv.gz</td><td>490723375</td><td>1590509940000</td></tr><tr><td>dbfs:/databricks-datasets/nyctaxi/tripdata/yellow/yellow_tripdata_2010-12.csv.gz</td><td>yellow_tripdata_2010-12.csv.gz</td><td>489442107</td><td>1590509972000</td></tr><tr><td>dbfs:/databricks-datasets/nyctaxi/tripdata/yellow/yellow_tripdata_2011-01.csv.gz</td><td>yellow_tripdata_2011-01.csv.gz</td><td>468994648</td><td>1590509976000</td></tr><tr><td>dbfs:/databricks-datasets/nyctaxi/tripdata/yellow/yellow_tripdata_2011-02.csv.gz</td><td>yellow_tripdata_2011-02.csv.gz</td><td>500480531</td><td>1590510276000</td></tr><tr><td>dbfs:/databricks-datasets/nyctaxi/tripdata/yellow/yellow_tripdata_2011-03.csv.gz</td><td>yellow_tripdata_2011-03.csv.gz</td><td>562171945</td><td>1590510276000</td></tr><tr><td>dbfs:/databricks-datasets/nyctaxi/tripdata/yellow/yellow_tripdata_2011-04.csv.gz</td><td>yellow_tripdata_2011-04.csv.gz</td><td>516464131</td><td>1590510276000</td></tr><tr><td>dbfs:/databricks-datasets/nyctaxi/tripdata/yellow/yellow_tripdata_2011-05.csv.gz</td><td>yellow_tripdata_2011-05.csv.gz</td><td>547466370</td><td>1590510315000</td></tr><tr><td>dbfs:/databricks-datasets/nyctaxi/tripdata/yellow/yellow_tripdata_2011-06.csv.gz</td><td>yellow_tripdata_2011-06.csv.gz</td><td>533561250</td><td>1590510326000</td></tr><tr><td>dbfs:/databricks-datasets/nyctaxi/tripdata/yellow/yellow_tripdata_2011-07.csv.gz</td><td>yellow_tripdata_2011-07.csv.gz</td><td>511667361</td><td>1590510642000</td></tr><tr><td>dbfs:/databricks-datasets/nyctaxi/tripdata/yellow/yellow_tripdata_2011-08.csv.gz</td><td>yellow_tripdata_2011-08.csv.gz</td><td>479496009</td><td>1590510653000</td></tr><tr><td>dbfs:/databricks-datasets/nyctaxi/tripdata/yellow/yellow_tripdata_2011-09.csv.gz</td><td>yellow_tripdata_2011-09.csv.gz</td><td>519067867</td><td>1590512900000</td></tr><tr><td>dbfs:/databricks-datasets/nyctaxi/tripdata/yellow/yellow_tripdata_2011-10.csv.gz</td><td>yellow_tripdata_2011-10.csv.gz</td><td>555546037</td><td>1590512900000</td></tr><tr><td>dbfs:/databricks-datasets/nyctaxi/tripdata/yellow/yellow_tripdata_2011-11.csv.gz</td><td>yellow_tripdata_2011-11.csv.gz</td><td>505934258</td><td>1590512900000</td></tr><tr><td>dbfs:/databricks-datasets/nyctaxi/tripdata/yellow/yellow_tripdata_2011-12.csv.gz</td><td>yellow_tripdata_2011-12.csv.gz</td><td>521194284</td><td>1590512900000</td></tr><tr><td>dbfs:/databricks-datasets/nyctaxi/tripdata/yellow/yellow_tripdata_2012-01.csv.gz</td><td>yellow_tripdata_2012-01.csv.gz</td><td>542699629</td><td>1590512900000</td></tr><tr><td>dbfs:/databricks-datasets/nyctaxi/tripdata/yellow/yellow_tripdata_2012-02.csv.gz</td><td>yellow_tripdata_2012-02.csv.gz</td><td>538161783</td><td>1590513191000</td></tr><tr><td>dbfs:/databricks-datasets/nyctaxi/tripdata/yellow/yellow_tripdata_2012-03.csv.gz</td><td>yellow_tripdata_2012-03.csv.gz</td><td>577176001</td><td>1590513204000</td></tr><tr><td>dbfs:/databricks-datasets/nyctaxi/tripdata/yellow/yellow_tripdata_2012-04.csv.gz</td><td>yellow_tripdata_2012-04.csv.gz</td><td>543801972</td><td>1590513207000</td></tr><tr><td>dbfs:/databricks-datasets/nyctaxi/tripdata/yellow/yellow_tripdata_2012-05.csv.gz</td><td>yellow_tripdata_2012-05.csv.gz</td><td>549759424</td><td>1590513250000</td></tr><tr><td>dbfs:/databricks-datasets/nyctaxi/tripdata/yellow/yellow_tripdata_2012-06.csv.gz</td><td>yellow_tripdata_2012-06.csv.gz</td><td>536119707</td><td>1590513265000</td></tr><tr><td>dbfs:/databricks-datasets/nyctaxi/tripdata/yellow/yellow_tripdata_2012-07.csv.gz</td><td>yellow_tripdata_2012-07.csv.gz</td><td>509555120</td><td>1590513444000</td></tr><tr><td>dbfs:/databricks-datasets/nyctaxi/tripdata/yellow/yellow_tripdata_2012-08.csv.gz</td><td>yellow_tripdata_2012-08.csv.gz</td><td>511483352</td><td>1590513459000</td></tr><tr><td>dbfs:/databricks-datasets/nyctaxi/tripdata/yellow/yellow_tripdata_2012-09.csv.gz</td><td>yellow_tripdata_2012-09.csv.gz</td><td>459381547</td><td>1590513459000</td></tr><tr><td>dbfs:/databricks-datasets/nyctaxi/tripdata/yellow/yellow_tripdata_2012-10.csv.gz</td><td>yellow_tripdata_2012-10.csv.gz</td><td>468143217</td><td>1590513492000</td></tr><tr><td>dbfs:/databricks-datasets/nyctaxi/tripdata/yellow/yellow_tripdata_2012-11.csv.gz</td><td>yellow_tripdata_2012-11.csv.gz</td><td>443832708</td><td>1590513506000</td></tr><tr><td>dbfs:/databricks-datasets/nyctaxi/tripdata/yellow/yellow_tripdata_2012-12.csv.gz</td><td>yellow_tripdata_2012-12.csv.gz</td><td>493139441</td><td>1590513691000</td></tr><tr><td>dbfs:/databricks-datasets/nyctaxi/tripdata/yellow/yellow_tripdata_2013-01.csv.gz</td><td>yellow_tripdata_2013-01.csv.gz</td><td>478262343</td><td>1590513693000</td></tr><tr><td>dbfs:/databricks-datasets/nyctaxi/tripdata/yellow/yellow_tripdata_2013-02.csv.gz</td><td>yellow_tripdata_2013-02.csv.gz</td><td>451683985</td><td>1590513709000</td></tr><tr><td>dbfs:/databricks-datasets/nyctaxi/tripdata/yellow/yellow_tripdata_2013-03.csv.gz</td><td>yellow_tripdata_2013-03.csv.gz</td><td>516448368</td><td>1590513716000</td></tr><tr><td>dbfs:/databricks-datasets/nyctaxi/tripdata/yellow/yellow_tripdata_2013-04.csv.gz</td><td>yellow_tripdata_2013-04.csv.gz</td><td>500106589</td><td>1590513723000</td></tr><tr><td>dbfs:/databricks-datasets/nyctaxi/tripdata/yellow/yellow_tripdata_2013-05.csv.gz</td><td>yellow_tripdata_2013-05.csv.gz</td><td>493978775</td><td>1590513917000</td></tr><tr><td>dbfs:/databricks-datasets/nyctaxi/tripdata/yellow/yellow_tripdata_2013-06.csv.gz</td><td>yellow_tripdata_2013-06.csv.gz</td><td>472703135</td><td>1590513918000</td></tr><tr><td>dbfs:/databricks-datasets/nyctaxi/tripdata/yellow/yellow_tripdata_2013-07.csv.gz</td><td>yellow_tripdata_2013-07.csv.gz</td><td>450013796</td><td>1590513920000</td></tr><tr><td>dbfs:/databricks-datasets/nyctaxi/tripdata/yellow/yellow_tripdata_2013-08.csv.gz</td><td>yellow_tripdata_2013-08.csv.gz</td><td>421885789</td><td>1590513958000</td></tr><tr><td>dbfs:/databricks-datasets/nyctaxi/tripdata/yellow/yellow_tripdata_2013-09.csv.gz</td><td>yellow_tripdata_2013-09.csv.gz</td><td>481546619</td><td>1590513960000</td></tr><tr><td>dbfs:/databricks-datasets/nyctaxi/tripdata/yellow/yellow_tripdata_2013-10.csv.gz</td><td>yellow_tripdata_2013-10.csv.gz</td><td>500785608</td><td>1590514149000</td></tr><tr><td>dbfs:/databricks-datasets/nyctaxi/tripdata/yellow/yellow_tripdata_2013-11.csv.gz</td><td>yellow_tripdata_2013-11.csv.gz</td><td>481124327</td><td>1590514152000</td></tr><tr><td>dbfs:/databricks-datasets/nyctaxi/tripdata/yellow/yellow_tripdata_2013-12.csv.gz</td><td>yellow_tripdata_2013-12.csv.gz</td><td>459830158</td><td>1590514152000</td></tr><tr><td>dbfs:/databricks-datasets/nyctaxi/tripdata/yellow/yellow_tripdata_2014-01.csv.gz</td><td>yellow_tripdata_2014-01.csv.gz</td><td>445284946</td><td>1590514169000</td></tr><tr><td>dbfs:/databricks-datasets/nyctaxi/tripdata/yellow/yellow_tripdata_2014-02.csv.gz</td><td>yellow_tripdata_2014-02.csv.gz</td><td>427962052</td><td>1590514199000</td></tr><tr><td>dbfs:/databricks-datasets/nyctaxi/tripdata/yellow/yellow_tripdata_2014-03.csv.gz</td><td>yellow_tripdata_2014-03.csv.gz</td><td>512115757</td><td>1590514382000</td></tr><tr><td>dbfs:/databricks-datasets/nyctaxi/tripdata/yellow/yellow_tripdata_2014-04.csv.gz</td><td>yellow_tripdata_2014-04.csv.gz</td><td>475749569</td><td>1590514383000</td></tr><tr><td>dbfs:/databricks-datasets/nyctaxi/tripdata/yellow/yellow_tripdata_2014-05.csv.gz</td><td>yellow_tripdata_2014-05.csv.gz</td><td>485741383</td><td>1590514386000</td></tr><tr><td>dbfs:/databricks-datasets/nyctaxi/tripdata/yellow/yellow_tripdata_2014-06.csv.gz</td><td>yellow_tripdata_2014-06.csv.gz</td><td>456035000</td><td>1590514388000</td></tr><tr><td>dbfs:/databricks-datasets/nyctaxi/tripdata/yellow/yellow_tripdata_2014-07.csv.gz</td><td>yellow_tripdata_2014-07.csv.gz</td><td>425991155</td><td>1590514408000</td></tr><tr><td>dbfs:/databricks-datasets/nyctaxi/tripdata/yellow/yellow_tripdata_2014-08.csv.gz</td><td>yellow_tripdata_2014-08.csv.gz</td><td>419345164</td><td>1590514622000</td></tr><tr><td>dbfs:/databricks-datasets/nyctaxi/tripdata/yellow/yellow_tripdata_2014-09.csv.gz</td><td>yellow_tripdata_2014-09.csv.gz</td><td>443182114</td><td>1590514623000</td></tr><tr><td>dbfs:/databricks-datasets/nyctaxi/tripdata/yellow/yellow_tripdata_2014-10.csv.gz</td><td>yellow_tripdata_2014-10.csv.gz</td><td>466041865</td><td>1590514628000</td></tr><tr><td>dbfs:/databricks-datasets/nyctaxi/tripdata/yellow/yellow_tripdata_2014-11.csv.gz</td><td>yellow_tripdata_2014-11.csv.gz</td><td>437336437</td><td>1590514629000</td></tr><tr><td>dbfs:/databricks-datasets/nyctaxi/tripdata/yellow/yellow_tripdata_2014-12.csv.gz</td><td>yellow_tripdata_2014-12.csv.gz</td><td>431611778</td><td>1590514636000</td></tr><tr><td>dbfs:/databricks-datasets/nyctaxi/tripdata/yellow/yellow_tripdata_2015-01.csv.gz</td><td>yellow_tripdata_2015-01.csv.gz</td><td>510982711</td><td>1590514821000</td></tr><tr><td>dbfs:/databricks-datasets/nyctaxi/tripdata/yellow/yellow_tripdata_2015-02.csv.gz</td><td>yellow_tripdata_2015-02.csv.gz</td><td>498934977</td><td>1590514834000</td></tr><tr><td>dbfs:/databricks-datasets/nyctaxi/tripdata/yellow/yellow_tripdata_2015-03.csv.gz</td><td>yellow_tripdata_2015-03.csv.gz</td><td>536626429</td><td>1590514838000</td></tr><tr><td>dbfs:/databricks-datasets/nyctaxi/tripdata/yellow/yellow_tripdata_2015-04.csv.gz</td><td>yellow_tripdata_2015-04.csv.gz</td><td>526278868</td><td>1590514844000</td></tr><tr><td>dbfs:/databricks-datasets/nyctaxi/tripdata/yellow/yellow_tripdata_2015-05.csv.gz</td><td>yellow_tripdata_2015-05.csv.gz</td><td>528674128</td><td>1590514845000</td></tr><tr><td>dbfs:/databricks-datasets/nyctaxi/tripdata/yellow/yellow_tripdata_2015-06.csv.gz</td><td>yellow_tripdata_2015-06.csv.gz</td><td>484887977</td><td>1590515081000</td></tr><tr><td>dbfs:/databricks-datasets/nyctaxi/tripdata/yellow/yellow_tripdata_2015-07.csv.gz</td><td>yellow_tripdata_2015-07.csv.gz</td><td>448653527</td><td>1590515089000</td></tr><tr><td>dbfs:/databricks-datasets/nyctaxi/tripdata/yellow/yellow_tripdata_2015-08.csv.gz</td><td>yellow_tripdata_2015-08.csv.gz</td><td>432743918</td><td>1590515109000</td></tr><tr><td>dbfs:/databricks-datasets/nyctaxi/tripdata/yellow/yellow_tripdata_2015-09.csv.gz</td><td>yellow_tripdata_2015-09.csv.gz</td><td>436791892</td><td>1590515113000</td></tr><tr><td>dbfs:/databricks-datasets/nyctaxi/tripdata/yellow/yellow_tripdata_2015-10.csv.gz</td><td>yellow_tripdata_2015-10.csv.gz</td><td>478620813</td><td>1590515124000</td></tr><tr><td>dbfs:/databricks-datasets/nyctaxi/tripdata/yellow/yellow_tripdata_2015-11.csv.gz</td><td>yellow_tripdata_2015-11.csv.gz</td><td>439257795</td><td>1590515319000</td></tr><tr><td>dbfs:/databricks-datasets/nyctaxi/tripdata/yellow/yellow_tripdata_2015-12.csv.gz</td><td>yellow_tripdata_2015-12.csv.gz</td><td>445153178</td><td>1590515326000</td></tr><tr><td>dbfs:/databricks-datasets/nyctaxi/tripdata/yellow/yellow_tripdata_2016-01.csv.gz</td><td>yellow_tripdata_2016-01.csv.gz</td><td>421734912</td><td>1590515327000</td></tr><tr><td>dbfs:/databricks-datasets/nyctaxi/tripdata/yellow/yellow_tripdata_2016-02.csv.gz</td><td>yellow_tripdata_2016-02.csv.gz</td><td>439029046</td><td>1590515334000</td></tr><tr><td>dbfs:/databricks-datasets/nyctaxi/tripdata/yellow/yellow_tripdata_2016-03.csv.gz</td><td>yellow_tripdata_2016-03.csv.gz</td><td>472243929</td><td>1590515365000</td></tr><tr><td>dbfs:/databricks-datasets/nyctaxi/tripdata/yellow/yellow_tripdata_2016-04.csv.gz</td><td>yellow_tripdata_2016-04.csv.gz</td><td>463706594</td><td>1590515506000</td></tr><tr><td>dbfs:/databricks-datasets/nyctaxi/tripdata/yellow/yellow_tripdata_2016-05.csv.gz</td><td>yellow_tripdata_2016-05.csv.gz</td><td>463046642</td><td>1590515510000</td></tr><tr><td>dbfs:/databricks-datasets/nyctaxi/tripdata/yellow/yellow_tripdata_2016-06.csv.gz</td><td>yellow_tripdata_2016-06.csv.gz</td><td>435640067</td><td>1590515515000</td></tr><tr><td>dbfs:/databricks-datasets/nyctaxi/tripdata/yellow/yellow_tripdata_2016-07.csv.gz</td><td>yellow_tripdata_2016-07.csv.gz</td><td>155772486</td><td>1590515517000</td></tr><tr><td>dbfs:/databricks-datasets/nyctaxi/tripdata/yellow/yellow_tripdata_2016-08.csv.gz</td><td>yellow_tripdata_2016-08.csv.gz</td><td>149189301</td><td>1590515553000</td></tr><tr><td>dbfs:/databricks-datasets/nyctaxi/tripdata/yellow/yellow_tripdata_2016-09.csv.gz</td><td>yellow_tripdata_2016-09.csv.gz</td><td>154436403</td><td>1590515582000</td></tr><tr><td>dbfs:/databricks-datasets/nyctaxi/tripdata/yellow/yellow_tripdata_2016-10.csv.gz</td><td>yellow_tripdata_2016-10.csv.gz</td><td>164098675</td><td>1590515614000</td></tr><tr><td>dbfs:/databricks-datasets/nyctaxi/tripdata/yellow/yellow_tripdata_2016-11.csv.gz</td><td>yellow_tripdata_2016-11.csv.gz</td><td>152816358</td><td>1590515646000</td></tr><tr><td>dbfs:/databricks-datasets/nyctaxi/tripdata/yellow/yellow_tripdata_2016-12.csv.gz</td><td>yellow_tripdata_2016-12.csv.gz</td><td>157413907</td><td>1590515679000</td></tr><tr><td>dbfs:/databricks-datasets/nyctaxi/tripdata/yellow/yellow_tripdata_2017-01.csv.gz</td><td>yellow_tripdata_2017-01.csv.gz</td><td>144492027</td><td>1590515679000</td></tr><tr><td>dbfs:/databricks-datasets/nyctaxi/tripdata/yellow/yellow_tripdata_2017-02.csv.gz</td><td>yellow_tripdata_2017-02.csv.gz</td><td>136659107</td><td>1590515679000</td></tr><tr><td>dbfs:/databricks-datasets/nyctaxi/tripdata/yellow/yellow_tripdata_2017-03.csv.gz</td><td>yellow_tripdata_2017-03.csv.gz</td><td>154604320</td><td>1590515681000</td></tr><tr><td>dbfs:/databricks-datasets/nyctaxi/tripdata/yellow/yellow_tripdata_2017-04.csv.gz</td><td>yellow_tripdata_2017-04.csv.gz</td><td>150995632</td><td>1590515707000</td></tr><tr><td>dbfs:/databricks-datasets/nyctaxi/tripdata/yellow/yellow_tripdata_2017-05.csv.gz</td><td>yellow_tripdata_2017-05.csv.gz</td><td>152513179</td><td>1590515741000</td></tr><tr><td>dbfs:/databricks-datasets/nyctaxi/tripdata/yellow/yellow_tripdata_2017-06.csv.gz</td><td>yellow_tripdata_2017-06.csv.gz</td><td>144967379</td><td>1590515741000</td></tr><tr><td>dbfs:/databricks-datasets/nyctaxi/tripdata/yellow/yellow_tripdata_2017-07.csv.gz</td><td>yellow_tripdata_2017-07.csv.gz</td><td>141141934</td><td>1590515743000</td></tr><tr><td>dbfs:/databricks-datasets/nyctaxi/tripdata/yellow/yellow_tripdata_2017-08.csv.gz</td><td>yellow_tripdata_2017-08.csv.gz</td><td>138415411</td><td>1590515747000</td></tr><tr><td>dbfs:/databricks-datasets/nyctaxi/tripdata/yellow/yellow_tripdata_2017-09.csv.gz</td><td>yellow_tripdata_2017-09.csv.gz</td><td>147622574</td><td>1590515778000</td></tr><tr><td>dbfs:/databricks-datasets/nyctaxi/tripdata/yellow/yellow_tripdata_2017-10.csv.gz</td><td>yellow_tripdata_2017-10.csv.gz</td><td>160943166</td><td>1590515808000</td></tr><tr><td>dbfs:/databricks-datasets/nyctaxi/tripdata/yellow/yellow_tripdata_2017-11.csv.gz</td><td>yellow_tripdata_2017-11.csv.gz</td><td>152770049</td><td>1590515809000</td></tr><tr><td>dbfs:/databricks-datasets/nyctaxi/tripdata/yellow/yellow_tripdata_2017-12.csv.gz</td><td>yellow_tripdata_2017-12.csv.gz</td><td>156184671</td><td>1590515809000</td></tr><tr><td>dbfs:/databricks-datasets/nyctaxi/tripdata/yellow/yellow_tripdata_2018-01.csv.gz</td><td>yellow_tripdata_2018-01.csv.gz</td><td>143211519</td><td>1590515811000</td></tr><tr><td>dbfs:/databricks-datasets/nyctaxi/tripdata/yellow/yellow_tripdata_2018-02.csv.gz</td><td>yellow_tripdata_2018-02.csv.gz</td><td>139062994</td><td>1590515845000</td></tr><tr><td>dbfs:/databricks-datasets/nyctaxi/tripdata/yellow/yellow_tripdata_2018-03.csv.gz</td><td>yellow_tripdata_2018-03.csv.gz</td><td>155108281</td><td>1590515882000</td></tr><tr><td>dbfs:/databricks-datasets/nyctaxi/tripdata/yellow/yellow_tripdata_2018-04.csv.gz</td><td>yellow_tripdata_2018-04.csv.gz</td><td>153504004</td><td>1590515882000</td></tr><tr><td>dbfs:/databricks-datasets/nyctaxi/tripdata/yellow/yellow_tripdata_2018-05.csv.gz</td><td>yellow_tripdata_2018-05.csv.gz</td><td>152775398</td><td>1590515882000</td></tr><tr><td>dbfs:/databricks-datasets/nyctaxi/tripdata/yellow/yellow_tripdata_2018-06.csv.gz</td><td>yellow_tripdata_2018-06.csv.gz</td><td>144377468</td><td>1590515882000</td></tr><tr><td>dbfs:/databricks-datasets/nyctaxi/tripdata/yellow/yellow_tripdata_2018-07.csv.gz</td><td>yellow_tripdata_2018-07.csv.gz</td><td>129810520</td><td>1590515920000</td></tr><tr><td>dbfs:/databricks-datasets/nyctaxi/tripdata/yellow/yellow_tripdata_2018-08.csv.gz</td><td>yellow_tripdata_2018-08.csv.gz</td><td>129874126</td><td>1590515982000</td></tr><tr><td>dbfs:/databricks-datasets/nyctaxi/tripdata/yellow/yellow_tripdata_2018-09.csv.gz</td><td>yellow_tripdata_2018-09.csv.gz</td><td>133683366</td><td>1590515983000</td></tr><tr><td>dbfs:/databricks-datasets/nyctaxi/tripdata/yellow/yellow_tripdata_2018-10.csv.gz</td><td>yellow_tripdata_2018-10.csv.gz</td><td>146678859</td><td>1590515983000</td></tr><tr><td>dbfs:/databricks-datasets/nyctaxi/tripdata/yellow/yellow_tripdata_2018-11.csv.gz</td><td>yellow_tripdata_2018-11.csv.gz</td><td>135364951</td><td>1590515983000</td></tr><tr><td>dbfs:/databricks-datasets/nyctaxi/tripdata/yellow/yellow_tripdata_2018-12.csv.gz</td><td>yellow_tripdata_2018-12.csv.gz</td><td>135612832</td><td>1590516007000</td></tr><tr><td>dbfs:/databricks-datasets/nyctaxi/tripdata/yellow/yellow_tripdata_2019-01.csv.gz</td><td>yellow_tripdata_2019-01.csv.gz</td><td>126896536</td><td>1590516079000</td></tr><tr><td>dbfs:/databricks-datasets/nyctaxi/tripdata/yellow/yellow_tripdata_2019-02.csv.gz</td><td>yellow_tripdata_2019-02.csv.gz</td><td>121172953</td><td>1590516079000</td></tr><tr><td>dbfs:/databricks-datasets/nyctaxi/tripdata/yellow/yellow_tripdata_2019-03.csv.gz</td><td>yellow_tripdata_2019-03.csv.gz</td><td>135816827</td><td>1590516087000</td></tr><tr><td>dbfs:/databricks-datasets/nyctaxi/tripdata/yellow/yellow_tripdata_2019-04.csv.gz</td><td>yellow_tripdata_2019-04.csv.gz</td><td>128774049</td><td>1590516089000</td></tr><tr><td>dbfs:/databricks-datasets/nyctaxi/tripdata/yellow/yellow_tripdata_2019-05.csv.gz</td><td>yellow_tripdata_2019-05.csv.gz</td><td>131394988</td><td>1590516117000</td></tr><tr><td>dbfs:/databricks-datasets/nyctaxi/tripdata/yellow/yellow_tripdata_2019-06.csv.gz</td><td>yellow_tripdata_2019-06.csv.gz</td><td>120767491</td><td>1590516175000</td></tr><tr><td>dbfs:/databricks-datasets/nyctaxi/tripdata/yellow/yellow_tripdata_2019-07.csv.gz</td><td>yellow_tripdata_2019-07.csv.gz</td><td>109579693</td><td>1590516176000</td></tr><tr><td>dbfs:/databricks-datasets/nyctaxi/tripdata/yellow/yellow_tripdata_2019-08.csv.gz</td><td>yellow_tripdata_2019-08.csv.gz</td><td>105492899</td><td>1590516186000</td></tr><tr><td>dbfs:/databricks-datasets/nyctaxi/tripdata/yellow/yellow_tripdata_2019-09.csv.gz</td><td>yellow_tripdata_2019-09.csv.gz</td><td>114297190</td><td>1590516186000</td></tr><tr><td>dbfs:/databricks-datasets/nyctaxi/tripdata/yellow/yellow_tripdata_2019-10.csv.gz</td><td>yellow_tripdata_2019-10.csv.gz</td><td>125220156</td><td>1590516214000</td></tr><tr><td>dbfs:/databricks-datasets/nyctaxi/tripdata/yellow/yellow_tripdata_2019-11.csv.gz</td><td>yellow_tripdata_2019-11.csv.gz</td><td>119085913</td><td>1590516262000</td></tr><tr><td>dbfs:/databricks-datasets/nyctaxi/tripdata/yellow/yellow_tripdata_2019-12.csv.gz</td><td>yellow_tripdata_2019-12.csv.gz</td><td>119637211</td><td>1590516263000</td></tr></tbody></table></div>"
      ]
     },
     "metadata": {
      "application/vnd.databricks.v1+output": {
       "addedWidgets": {},
       "aggData": [],
       "aggError": "",
       "aggOverflow": false,
       "aggSchema": [],
       "aggSeriesLimitReached": false,
       "aggType": "",
       "arguments": {},
       "columnCustomDisplayInfos": {},
       "data": [
        [
         "dbfs:/databricks-datasets/nyctaxi/tripdata/yellow/yellow_tripdata_2009-01.csv.gz",
         "yellow_tripdata_2009-01.csv.gz",
         504262564,
         1590475761000
        ],
        [
         "dbfs:/databricks-datasets/nyctaxi/tripdata/yellow/yellow_tripdata_2009-02.csv.gz",
         "yellow_tripdata_2009-02.csv.gz",
         480034681,
         1590475761000
        ],
        [
         "dbfs:/databricks-datasets/nyctaxi/tripdata/yellow/yellow_tripdata_2009-03.csv.gz",
         "yellow_tripdata_2009-03.csv.gz",
         521102719,
         1590475761000
        ],
        [
         "dbfs:/databricks-datasets/nyctaxi/tripdata/yellow/yellow_tripdata_2009-04.csv.gz",
         "yellow_tripdata_2009-04.csv.gz",
         515435466,
         1590475761000
        ],
        [
         "dbfs:/databricks-datasets/nyctaxi/tripdata/yellow/yellow_tripdata_2009-05.csv.gz",
         "yellow_tripdata_2009-05.csv.gz",
         531133739,
         1590475761000
        ],
        [
         "dbfs:/databricks-datasets/nyctaxi/tripdata/yellow/yellow_tripdata_2009-06.csv.gz",
         "yellow_tripdata_2009-06.csv.gz",
         508802995,
         1590508850000
        ],
        [
         "dbfs:/databricks-datasets/nyctaxi/tripdata/yellow/yellow_tripdata_2009-07.csv.gz",
         "yellow_tripdata_2009-07.csv.gz",
         487731497,
         1590508850000
        ],
        [
         "dbfs:/databricks-datasets/nyctaxi/tripdata/yellow/yellow_tripdata_2009-08.csv.gz",
         "yellow_tripdata_2009-08.csv.gz",
         490825210,
         1590508850000
        ],
        [
         "dbfs:/databricks-datasets/nyctaxi/tripdata/yellow/yellow_tripdata_2009-09.csv.gz",
         "yellow_tripdata_2009-09.csv.gz",
         503121179,
         1590508850000
        ],
        [
         "dbfs:/databricks-datasets/nyctaxi/tripdata/yellow/yellow_tripdata_2009-10.csv.gz",
         "yellow_tripdata_2009-10.csv.gz",
         567109604,
         1590508850000
        ],
        [
         "dbfs:/databricks-datasets/nyctaxi/tripdata/yellow/yellow_tripdata_2009-11.csv.gz",
         "yellow_tripdata_2009-11.csv.gz",
         520260634,
         1590509194000
        ],
        [
         "dbfs:/databricks-datasets/nyctaxi/tripdata/yellow/yellow_tripdata_2009-12.csv.gz",
         "yellow_tripdata_2009-12.csv.gz",
         530726595,
         1590509195000
        ],
        [
         "dbfs:/databricks-datasets/nyctaxi/tripdata/yellow/yellow_tripdata_2010-01.csv.gz",
         "yellow_tripdata_2010-01.csv.gz",
         565548417,
         1590509195000
        ],
        [
         "dbfs:/databricks-datasets/nyctaxi/tripdata/yellow/yellow_tripdata_2010-02.csv.gz",
         "yellow_tripdata_2010-02.csv.gz",
         396576504,
         1590509211000
        ],
        [
         "dbfs:/databricks-datasets/nyctaxi/tripdata/yellow/yellow_tripdata_2010-03.csv.gz",
         "yellow_tripdata_2010-03.csv.gz",
         456086101,
         1590509246000
        ],
        [
         "dbfs:/databricks-datasets/nyctaxi/tripdata/yellow/yellow_tripdata_2010-04.csv.gz",
         "yellow_tripdata_2010-04.csv.gz",
         579400917,
         1590509507000
        ],
        [
         "dbfs:/databricks-datasets/nyctaxi/tripdata/yellow/yellow_tripdata_2010-05.csv.gz",
         "yellow_tripdata_2010-05.csv.gz",
         593525883,
         1590509556000
        ],
        [
         "dbfs:/databricks-datasets/nyctaxi/tripdata/yellow/yellow_tripdata_2010-06.csv.gz",
         "yellow_tripdata_2010-06.csv.gz",
         568228308,
         1590509559000
        ],
        [
         "dbfs:/databricks-datasets/nyctaxi/tripdata/yellow/yellow_tripdata_2010-07.csv.gz",
         "yellow_tripdata_2010-07.csv.gz",
         562093150,
         1590509578000
        ],
        [
         "dbfs:/databricks-datasets/nyctaxi/tripdata/yellow/yellow_tripdata_2010-08.csv.gz",
         "yellow_tripdata_2010-08.csv.gz",
         441394152,
         1590509580000
        ],
        [
         "dbfs:/databricks-datasets/nyctaxi/tripdata/yellow/yellow_tripdata_2010-09.csv.gz",
         "yellow_tripdata_2010-09.csv.gz",
         560174405,
         1590509894000
        ],
        [
         "dbfs:/databricks-datasets/nyctaxi/tripdata/yellow/yellow_tripdata_2010-10.csv.gz",
         "yellow_tripdata_2010-10.csv.gz",
         515205924,
         1590509913000
        ],
        [
         "dbfs:/databricks-datasets/nyctaxi/tripdata/yellow/yellow_tripdata_2010-11.csv.gz",
         "yellow_tripdata_2010-11.csv.gz",
         490723375,
         1590509940000
        ],
        [
         "dbfs:/databricks-datasets/nyctaxi/tripdata/yellow/yellow_tripdata_2010-12.csv.gz",
         "yellow_tripdata_2010-12.csv.gz",
         489442107,
         1590509972000
        ],
        [
         "dbfs:/databricks-datasets/nyctaxi/tripdata/yellow/yellow_tripdata_2011-01.csv.gz",
         "yellow_tripdata_2011-01.csv.gz",
         468994648,
         1590509976000
        ],
        [
         "dbfs:/databricks-datasets/nyctaxi/tripdata/yellow/yellow_tripdata_2011-02.csv.gz",
         "yellow_tripdata_2011-02.csv.gz",
         500480531,
         1590510276000
        ],
        [
         "dbfs:/databricks-datasets/nyctaxi/tripdata/yellow/yellow_tripdata_2011-03.csv.gz",
         "yellow_tripdata_2011-03.csv.gz",
         562171945,
         1590510276000
        ],
        [
         "dbfs:/databricks-datasets/nyctaxi/tripdata/yellow/yellow_tripdata_2011-04.csv.gz",
         "yellow_tripdata_2011-04.csv.gz",
         516464131,
         1590510276000
        ],
        [
         "dbfs:/databricks-datasets/nyctaxi/tripdata/yellow/yellow_tripdata_2011-05.csv.gz",
         "yellow_tripdata_2011-05.csv.gz",
         547466370,
         1590510315000
        ],
        [
         "dbfs:/databricks-datasets/nyctaxi/tripdata/yellow/yellow_tripdata_2011-06.csv.gz",
         "yellow_tripdata_2011-06.csv.gz",
         533561250,
         1590510326000
        ],
        [
         "dbfs:/databricks-datasets/nyctaxi/tripdata/yellow/yellow_tripdata_2011-07.csv.gz",
         "yellow_tripdata_2011-07.csv.gz",
         511667361,
         1590510642000
        ],
        [
         "dbfs:/databricks-datasets/nyctaxi/tripdata/yellow/yellow_tripdata_2011-08.csv.gz",
         "yellow_tripdata_2011-08.csv.gz",
         479496009,
         1590510653000
        ],
        [
         "dbfs:/databricks-datasets/nyctaxi/tripdata/yellow/yellow_tripdata_2011-09.csv.gz",
         "yellow_tripdata_2011-09.csv.gz",
         519067867,
         1590512900000
        ],
        [
         "dbfs:/databricks-datasets/nyctaxi/tripdata/yellow/yellow_tripdata_2011-10.csv.gz",
         "yellow_tripdata_2011-10.csv.gz",
         555546037,
         1590512900000
        ],
        [
         "dbfs:/databricks-datasets/nyctaxi/tripdata/yellow/yellow_tripdata_2011-11.csv.gz",
         "yellow_tripdata_2011-11.csv.gz",
         505934258,
         1590512900000
        ],
        [
         "dbfs:/databricks-datasets/nyctaxi/tripdata/yellow/yellow_tripdata_2011-12.csv.gz",
         "yellow_tripdata_2011-12.csv.gz",
         521194284,
         1590512900000
        ],
        [
         "dbfs:/databricks-datasets/nyctaxi/tripdata/yellow/yellow_tripdata_2012-01.csv.gz",
         "yellow_tripdata_2012-01.csv.gz",
         542699629,
         1590512900000
        ],
        [
         "dbfs:/databricks-datasets/nyctaxi/tripdata/yellow/yellow_tripdata_2012-02.csv.gz",
         "yellow_tripdata_2012-02.csv.gz",
         538161783,
         1590513191000
        ],
        [
         "dbfs:/databricks-datasets/nyctaxi/tripdata/yellow/yellow_tripdata_2012-03.csv.gz",
         "yellow_tripdata_2012-03.csv.gz",
         577176001,
         1590513204000
        ],
        [
         "dbfs:/databricks-datasets/nyctaxi/tripdata/yellow/yellow_tripdata_2012-04.csv.gz",
         "yellow_tripdata_2012-04.csv.gz",
         543801972,
         1590513207000
        ],
        [
         "dbfs:/databricks-datasets/nyctaxi/tripdata/yellow/yellow_tripdata_2012-05.csv.gz",
         "yellow_tripdata_2012-05.csv.gz",
         549759424,
         1590513250000
        ],
        [
         "dbfs:/databricks-datasets/nyctaxi/tripdata/yellow/yellow_tripdata_2012-06.csv.gz",
         "yellow_tripdata_2012-06.csv.gz",
         536119707,
         1590513265000
        ],
        [
         "dbfs:/databricks-datasets/nyctaxi/tripdata/yellow/yellow_tripdata_2012-07.csv.gz",
         "yellow_tripdata_2012-07.csv.gz",
         509555120,
         1590513444000
        ],
        [
         "dbfs:/databricks-datasets/nyctaxi/tripdata/yellow/yellow_tripdata_2012-08.csv.gz",
         "yellow_tripdata_2012-08.csv.gz",
         511483352,
         1590513459000
        ],
        [
         "dbfs:/databricks-datasets/nyctaxi/tripdata/yellow/yellow_tripdata_2012-09.csv.gz",
         "yellow_tripdata_2012-09.csv.gz",
         459381547,
         1590513459000
        ],
        [
         "dbfs:/databricks-datasets/nyctaxi/tripdata/yellow/yellow_tripdata_2012-10.csv.gz",
         "yellow_tripdata_2012-10.csv.gz",
         468143217,
         1590513492000
        ],
        [
         "dbfs:/databricks-datasets/nyctaxi/tripdata/yellow/yellow_tripdata_2012-11.csv.gz",
         "yellow_tripdata_2012-11.csv.gz",
         443832708,
         1590513506000
        ],
        [
         "dbfs:/databricks-datasets/nyctaxi/tripdata/yellow/yellow_tripdata_2012-12.csv.gz",
         "yellow_tripdata_2012-12.csv.gz",
         493139441,
         1590513691000
        ],
        [
         "dbfs:/databricks-datasets/nyctaxi/tripdata/yellow/yellow_tripdata_2013-01.csv.gz",
         "yellow_tripdata_2013-01.csv.gz",
         478262343,
         1590513693000
        ],
        [
         "dbfs:/databricks-datasets/nyctaxi/tripdata/yellow/yellow_tripdata_2013-02.csv.gz",
         "yellow_tripdata_2013-02.csv.gz",
         451683985,
         1590513709000
        ],
        [
         "dbfs:/databricks-datasets/nyctaxi/tripdata/yellow/yellow_tripdata_2013-03.csv.gz",
         "yellow_tripdata_2013-03.csv.gz",
         516448368,
         1590513716000
        ],
        [
         "dbfs:/databricks-datasets/nyctaxi/tripdata/yellow/yellow_tripdata_2013-04.csv.gz",
         "yellow_tripdata_2013-04.csv.gz",
         500106589,
         1590513723000
        ],
        [
         "dbfs:/databricks-datasets/nyctaxi/tripdata/yellow/yellow_tripdata_2013-05.csv.gz",
         "yellow_tripdata_2013-05.csv.gz",
         493978775,
         1590513917000
        ],
        [
         "dbfs:/databricks-datasets/nyctaxi/tripdata/yellow/yellow_tripdata_2013-06.csv.gz",
         "yellow_tripdata_2013-06.csv.gz",
         472703135,
         1590513918000
        ],
        [
         "dbfs:/databricks-datasets/nyctaxi/tripdata/yellow/yellow_tripdata_2013-07.csv.gz",
         "yellow_tripdata_2013-07.csv.gz",
         450013796,
         1590513920000
        ],
        [
         "dbfs:/databricks-datasets/nyctaxi/tripdata/yellow/yellow_tripdata_2013-08.csv.gz",
         "yellow_tripdata_2013-08.csv.gz",
         421885789,
         1590513958000
        ],
        [
         "dbfs:/databricks-datasets/nyctaxi/tripdata/yellow/yellow_tripdata_2013-09.csv.gz",
         "yellow_tripdata_2013-09.csv.gz",
         481546619,
         1590513960000
        ],
        [
         "dbfs:/databricks-datasets/nyctaxi/tripdata/yellow/yellow_tripdata_2013-10.csv.gz",
         "yellow_tripdata_2013-10.csv.gz",
         500785608,
         1590514149000
        ],
        [
         "dbfs:/databricks-datasets/nyctaxi/tripdata/yellow/yellow_tripdata_2013-11.csv.gz",
         "yellow_tripdata_2013-11.csv.gz",
         481124327,
         1590514152000
        ],
        [
         "dbfs:/databricks-datasets/nyctaxi/tripdata/yellow/yellow_tripdata_2013-12.csv.gz",
         "yellow_tripdata_2013-12.csv.gz",
         459830158,
         1590514152000
        ],
        [
         "dbfs:/databricks-datasets/nyctaxi/tripdata/yellow/yellow_tripdata_2014-01.csv.gz",
         "yellow_tripdata_2014-01.csv.gz",
         445284946,
         1590514169000
        ],
        [
         "dbfs:/databricks-datasets/nyctaxi/tripdata/yellow/yellow_tripdata_2014-02.csv.gz",
         "yellow_tripdata_2014-02.csv.gz",
         427962052,
         1590514199000
        ],
        [
         "dbfs:/databricks-datasets/nyctaxi/tripdata/yellow/yellow_tripdata_2014-03.csv.gz",
         "yellow_tripdata_2014-03.csv.gz",
         512115757,
         1590514382000
        ],
        [
         "dbfs:/databricks-datasets/nyctaxi/tripdata/yellow/yellow_tripdata_2014-04.csv.gz",
         "yellow_tripdata_2014-04.csv.gz",
         475749569,
         1590514383000
        ],
        [
         "dbfs:/databricks-datasets/nyctaxi/tripdata/yellow/yellow_tripdata_2014-05.csv.gz",
         "yellow_tripdata_2014-05.csv.gz",
         485741383,
         1590514386000
        ],
        [
         "dbfs:/databricks-datasets/nyctaxi/tripdata/yellow/yellow_tripdata_2014-06.csv.gz",
         "yellow_tripdata_2014-06.csv.gz",
         456035000,
         1590514388000
        ],
        [
         "dbfs:/databricks-datasets/nyctaxi/tripdata/yellow/yellow_tripdata_2014-07.csv.gz",
         "yellow_tripdata_2014-07.csv.gz",
         425991155,
         1590514408000
        ],
        [
         "dbfs:/databricks-datasets/nyctaxi/tripdata/yellow/yellow_tripdata_2014-08.csv.gz",
         "yellow_tripdata_2014-08.csv.gz",
         419345164,
         1590514622000
        ],
        [
         "dbfs:/databricks-datasets/nyctaxi/tripdata/yellow/yellow_tripdata_2014-09.csv.gz",
         "yellow_tripdata_2014-09.csv.gz",
         443182114,
         1590514623000
        ],
        [
         "dbfs:/databricks-datasets/nyctaxi/tripdata/yellow/yellow_tripdata_2014-10.csv.gz",
         "yellow_tripdata_2014-10.csv.gz",
         466041865,
         1590514628000
        ],
        [
         "dbfs:/databricks-datasets/nyctaxi/tripdata/yellow/yellow_tripdata_2014-11.csv.gz",
         "yellow_tripdata_2014-11.csv.gz",
         437336437,
         1590514629000
        ],
        [
         "dbfs:/databricks-datasets/nyctaxi/tripdata/yellow/yellow_tripdata_2014-12.csv.gz",
         "yellow_tripdata_2014-12.csv.gz",
         431611778,
         1590514636000
        ],
        [
         "dbfs:/databricks-datasets/nyctaxi/tripdata/yellow/yellow_tripdata_2015-01.csv.gz",
         "yellow_tripdata_2015-01.csv.gz",
         510982711,
         1590514821000
        ],
        [
         "dbfs:/databricks-datasets/nyctaxi/tripdata/yellow/yellow_tripdata_2015-02.csv.gz",
         "yellow_tripdata_2015-02.csv.gz",
         498934977,
         1590514834000
        ],
        [
         "dbfs:/databricks-datasets/nyctaxi/tripdata/yellow/yellow_tripdata_2015-03.csv.gz",
         "yellow_tripdata_2015-03.csv.gz",
         536626429,
         1590514838000
        ],
        [
         "dbfs:/databricks-datasets/nyctaxi/tripdata/yellow/yellow_tripdata_2015-04.csv.gz",
         "yellow_tripdata_2015-04.csv.gz",
         526278868,
         1590514844000
        ],
        [
         "dbfs:/databricks-datasets/nyctaxi/tripdata/yellow/yellow_tripdata_2015-05.csv.gz",
         "yellow_tripdata_2015-05.csv.gz",
         528674128,
         1590514845000
        ],
        [
         "dbfs:/databricks-datasets/nyctaxi/tripdata/yellow/yellow_tripdata_2015-06.csv.gz",
         "yellow_tripdata_2015-06.csv.gz",
         484887977,
         1590515081000
        ],
        [
         "dbfs:/databricks-datasets/nyctaxi/tripdata/yellow/yellow_tripdata_2015-07.csv.gz",
         "yellow_tripdata_2015-07.csv.gz",
         448653527,
         1590515089000
        ],
        [
         "dbfs:/databricks-datasets/nyctaxi/tripdata/yellow/yellow_tripdata_2015-08.csv.gz",
         "yellow_tripdata_2015-08.csv.gz",
         432743918,
         1590515109000
        ],
        [
         "dbfs:/databricks-datasets/nyctaxi/tripdata/yellow/yellow_tripdata_2015-09.csv.gz",
         "yellow_tripdata_2015-09.csv.gz",
         436791892,
         1590515113000
        ],
        [
         "dbfs:/databricks-datasets/nyctaxi/tripdata/yellow/yellow_tripdata_2015-10.csv.gz",
         "yellow_tripdata_2015-10.csv.gz",
         478620813,
         1590515124000
        ],
        [
         "dbfs:/databricks-datasets/nyctaxi/tripdata/yellow/yellow_tripdata_2015-11.csv.gz",
         "yellow_tripdata_2015-11.csv.gz",
         439257795,
         1590515319000
        ],
        [
         "dbfs:/databricks-datasets/nyctaxi/tripdata/yellow/yellow_tripdata_2015-12.csv.gz",
         "yellow_tripdata_2015-12.csv.gz",
         445153178,
         1590515326000
        ],
        [
         "dbfs:/databricks-datasets/nyctaxi/tripdata/yellow/yellow_tripdata_2016-01.csv.gz",
         "yellow_tripdata_2016-01.csv.gz",
         421734912,
         1590515327000
        ],
        [
         "dbfs:/databricks-datasets/nyctaxi/tripdata/yellow/yellow_tripdata_2016-02.csv.gz",
         "yellow_tripdata_2016-02.csv.gz",
         439029046,
         1590515334000
        ],
        [
         "dbfs:/databricks-datasets/nyctaxi/tripdata/yellow/yellow_tripdata_2016-03.csv.gz",
         "yellow_tripdata_2016-03.csv.gz",
         472243929,
         1590515365000
        ],
        [
         "dbfs:/databricks-datasets/nyctaxi/tripdata/yellow/yellow_tripdata_2016-04.csv.gz",
         "yellow_tripdata_2016-04.csv.gz",
         463706594,
         1590515506000
        ],
        [
         "dbfs:/databricks-datasets/nyctaxi/tripdata/yellow/yellow_tripdata_2016-05.csv.gz",
         "yellow_tripdata_2016-05.csv.gz",
         463046642,
         1590515510000
        ],
        [
         "dbfs:/databricks-datasets/nyctaxi/tripdata/yellow/yellow_tripdata_2016-06.csv.gz",
         "yellow_tripdata_2016-06.csv.gz",
         435640067,
         1590515515000
        ],
        [
         "dbfs:/databricks-datasets/nyctaxi/tripdata/yellow/yellow_tripdata_2016-07.csv.gz",
         "yellow_tripdata_2016-07.csv.gz",
         155772486,
         1590515517000
        ],
        [
         "dbfs:/databricks-datasets/nyctaxi/tripdata/yellow/yellow_tripdata_2016-08.csv.gz",
         "yellow_tripdata_2016-08.csv.gz",
         149189301,
         1590515553000
        ],
        [
         "dbfs:/databricks-datasets/nyctaxi/tripdata/yellow/yellow_tripdata_2016-09.csv.gz",
         "yellow_tripdata_2016-09.csv.gz",
         154436403,
         1590515582000
        ],
        [
         "dbfs:/databricks-datasets/nyctaxi/tripdata/yellow/yellow_tripdata_2016-10.csv.gz",
         "yellow_tripdata_2016-10.csv.gz",
         164098675,
         1590515614000
        ],
        [
         "dbfs:/databricks-datasets/nyctaxi/tripdata/yellow/yellow_tripdata_2016-11.csv.gz",
         "yellow_tripdata_2016-11.csv.gz",
         152816358,
         1590515646000
        ],
        [
         "dbfs:/databricks-datasets/nyctaxi/tripdata/yellow/yellow_tripdata_2016-12.csv.gz",
         "yellow_tripdata_2016-12.csv.gz",
         157413907,
         1590515679000
        ],
        [
         "dbfs:/databricks-datasets/nyctaxi/tripdata/yellow/yellow_tripdata_2017-01.csv.gz",
         "yellow_tripdata_2017-01.csv.gz",
         144492027,
         1590515679000
        ],
        [
         "dbfs:/databricks-datasets/nyctaxi/tripdata/yellow/yellow_tripdata_2017-02.csv.gz",
         "yellow_tripdata_2017-02.csv.gz",
         136659107,
         1590515679000
        ],
        [
         "dbfs:/databricks-datasets/nyctaxi/tripdata/yellow/yellow_tripdata_2017-03.csv.gz",
         "yellow_tripdata_2017-03.csv.gz",
         154604320,
         1590515681000
        ],
        [
         "dbfs:/databricks-datasets/nyctaxi/tripdata/yellow/yellow_tripdata_2017-04.csv.gz",
         "yellow_tripdata_2017-04.csv.gz",
         150995632,
         1590515707000
        ],
        [
         "dbfs:/databricks-datasets/nyctaxi/tripdata/yellow/yellow_tripdata_2017-05.csv.gz",
         "yellow_tripdata_2017-05.csv.gz",
         152513179,
         1590515741000
        ],
        [
         "dbfs:/databricks-datasets/nyctaxi/tripdata/yellow/yellow_tripdata_2017-06.csv.gz",
         "yellow_tripdata_2017-06.csv.gz",
         144967379,
         1590515741000
        ],
        [
         "dbfs:/databricks-datasets/nyctaxi/tripdata/yellow/yellow_tripdata_2017-07.csv.gz",
         "yellow_tripdata_2017-07.csv.gz",
         141141934,
         1590515743000
        ],
        [
         "dbfs:/databricks-datasets/nyctaxi/tripdata/yellow/yellow_tripdata_2017-08.csv.gz",
         "yellow_tripdata_2017-08.csv.gz",
         138415411,
         1590515747000
        ],
        [
         "dbfs:/databricks-datasets/nyctaxi/tripdata/yellow/yellow_tripdata_2017-09.csv.gz",
         "yellow_tripdata_2017-09.csv.gz",
         147622574,
         1590515778000
        ],
        [
         "dbfs:/databricks-datasets/nyctaxi/tripdata/yellow/yellow_tripdata_2017-10.csv.gz",
         "yellow_tripdata_2017-10.csv.gz",
         160943166,
         1590515808000
        ],
        [
         "dbfs:/databricks-datasets/nyctaxi/tripdata/yellow/yellow_tripdata_2017-11.csv.gz",
         "yellow_tripdata_2017-11.csv.gz",
         152770049,
         1590515809000
        ],
        [
         "dbfs:/databricks-datasets/nyctaxi/tripdata/yellow/yellow_tripdata_2017-12.csv.gz",
         "yellow_tripdata_2017-12.csv.gz",
         156184671,
         1590515809000
        ],
        [
         "dbfs:/databricks-datasets/nyctaxi/tripdata/yellow/yellow_tripdata_2018-01.csv.gz",
         "yellow_tripdata_2018-01.csv.gz",
         143211519,
         1590515811000
        ],
        [
         "dbfs:/databricks-datasets/nyctaxi/tripdata/yellow/yellow_tripdata_2018-02.csv.gz",
         "yellow_tripdata_2018-02.csv.gz",
         139062994,
         1590515845000
        ],
        [
         "dbfs:/databricks-datasets/nyctaxi/tripdata/yellow/yellow_tripdata_2018-03.csv.gz",
         "yellow_tripdata_2018-03.csv.gz",
         155108281,
         1590515882000
        ],
        [
         "dbfs:/databricks-datasets/nyctaxi/tripdata/yellow/yellow_tripdata_2018-04.csv.gz",
         "yellow_tripdata_2018-04.csv.gz",
         153504004,
         1590515882000
        ],
        [
         "dbfs:/databricks-datasets/nyctaxi/tripdata/yellow/yellow_tripdata_2018-05.csv.gz",
         "yellow_tripdata_2018-05.csv.gz",
         152775398,
         1590515882000
        ],
        [
         "dbfs:/databricks-datasets/nyctaxi/tripdata/yellow/yellow_tripdata_2018-06.csv.gz",
         "yellow_tripdata_2018-06.csv.gz",
         144377468,
         1590515882000
        ],
        [
         "dbfs:/databricks-datasets/nyctaxi/tripdata/yellow/yellow_tripdata_2018-07.csv.gz",
         "yellow_tripdata_2018-07.csv.gz",
         129810520,
         1590515920000
        ],
        [
         "dbfs:/databricks-datasets/nyctaxi/tripdata/yellow/yellow_tripdata_2018-08.csv.gz",
         "yellow_tripdata_2018-08.csv.gz",
         129874126,
         1590515982000
        ],
        [
         "dbfs:/databricks-datasets/nyctaxi/tripdata/yellow/yellow_tripdata_2018-09.csv.gz",
         "yellow_tripdata_2018-09.csv.gz",
         133683366,
         1590515983000
        ],
        [
         "dbfs:/databricks-datasets/nyctaxi/tripdata/yellow/yellow_tripdata_2018-10.csv.gz",
         "yellow_tripdata_2018-10.csv.gz",
         146678859,
         1590515983000
        ],
        [
         "dbfs:/databricks-datasets/nyctaxi/tripdata/yellow/yellow_tripdata_2018-11.csv.gz",
         "yellow_tripdata_2018-11.csv.gz",
         135364951,
         1590515983000
        ],
        [
         "dbfs:/databricks-datasets/nyctaxi/tripdata/yellow/yellow_tripdata_2018-12.csv.gz",
         "yellow_tripdata_2018-12.csv.gz",
         135612832,
         1590516007000
        ],
        [
         "dbfs:/databricks-datasets/nyctaxi/tripdata/yellow/yellow_tripdata_2019-01.csv.gz",
         "yellow_tripdata_2019-01.csv.gz",
         126896536,
         1590516079000
        ],
        [
         "dbfs:/databricks-datasets/nyctaxi/tripdata/yellow/yellow_tripdata_2019-02.csv.gz",
         "yellow_tripdata_2019-02.csv.gz",
         121172953,
         1590516079000
        ],
        [
         "dbfs:/databricks-datasets/nyctaxi/tripdata/yellow/yellow_tripdata_2019-03.csv.gz",
         "yellow_tripdata_2019-03.csv.gz",
         135816827,
         1590516087000
        ],
        [
         "dbfs:/databricks-datasets/nyctaxi/tripdata/yellow/yellow_tripdata_2019-04.csv.gz",
         "yellow_tripdata_2019-04.csv.gz",
         128774049,
         1590516089000
        ],
        [
         "dbfs:/databricks-datasets/nyctaxi/tripdata/yellow/yellow_tripdata_2019-05.csv.gz",
         "yellow_tripdata_2019-05.csv.gz",
         131394988,
         1590516117000
        ],
        [
         "dbfs:/databricks-datasets/nyctaxi/tripdata/yellow/yellow_tripdata_2019-06.csv.gz",
         "yellow_tripdata_2019-06.csv.gz",
         120767491,
         1590516175000
        ],
        [
         "dbfs:/databricks-datasets/nyctaxi/tripdata/yellow/yellow_tripdata_2019-07.csv.gz",
         "yellow_tripdata_2019-07.csv.gz",
         109579693,
         1590516176000
        ],
        [
         "dbfs:/databricks-datasets/nyctaxi/tripdata/yellow/yellow_tripdata_2019-08.csv.gz",
         "yellow_tripdata_2019-08.csv.gz",
         105492899,
         1590516186000
        ],
        [
         "dbfs:/databricks-datasets/nyctaxi/tripdata/yellow/yellow_tripdata_2019-09.csv.gz",
         "yellow_tripdata_2019-09.csv.gz",
         114297190,
         1590516186000
        ],
        [
         "dbfs:/databricks-datasets/nyctaxi/tripdata/yellow/yellow_tripdata_2019-10.csv.gz",
         "yellow_tripdata_2019-10.csv.gz",
         125220156,
         1590516214000
        ],
        [
         "dbfs:/databricks-datasets/nyctaxi/tripdata/yellow/yellow_tripdata_2019-11.csv.gz",
         "yellow_tripdata_2019-11.csv.gz",
         119085913,
         1590516262000
        ],
        [
         "dbfs:/databricks-datasets/nyctaxi/tripdata/yellow/yellow_tripdata_2019-12.csv.gz",
         "yellow_tripdata_2019-12.csv.gz",
         119637211,
         1590516263000
        ]
       ],
       "datasetInfos": [],
       "dbfsResultPath": null,
       "isJsonSchema": true,
       "metadata": {},
       "overflow": false,
       "plotOptions": {
        "customPlotOptions": {},
        "displayType": "table",
        "pivotAggregation": null,
        "pivotColumns": null,
        "xColumns": null,
        "yColumns": null
       },
       "removedWidgets": [],
       "schema": [
        {
         "metadata": "{}",
         "name": "path",
         "type": "\"string\""
        },
        {
         "metadata": "{}",
         "name": "name",
         "type": "\"string\""
        },
        {
         "metadata": "{}",
         "name": "size",
         "type": "\"long\""
        },
        {
         "metadata": "{}",
         "name": "modificationTime",
         "type": "\"long\""
        }
       ],
       "type": "table"
      }
     },
     "output_type": "display_data"
    }
   ],
   "source": [
    "%fs\n",
    "ls dbfs:/databricks-datasets/nyctaxi/tripdata/yellow"
   ]
  },
  {
   "cell_type": "code",
   "execution_count": 0,
   "metadata": {
    "application/vnd.databricks.v1+cell": {
     "cellMetadata": {
      "byteLimit": 2048000,
      "rowLimit": 10000
     },
     "inputWidgets": {},
     "nuid": "f5e3b686-4fd4-466c-902c-d7ed555a3917",
     "showTitle": false,
     "tableResultSettingsMap": {},
     "title": ""
    }
   },
   "outputs": [
    {
     "output_type": "display_data",
     "data": {
      "application/json": {
       "cell": {
        "!": "OSMagics",
        "HTML": "Other",
        "SVG": "Other",
        "bash": "Other",
        "capture": "ExecutionMagics",
        "debug": "ExecutionMagics",
        "file": "Other",
        "html": "DisplayMagics",
        "javascript": "DisplayMagics",
        "js": "DisplayMagics",
        "latex": "DisplayMagics",
        "markdown": "DisplayMagics",
        "perl": "Other",
        "prun": "ExecutionMagics",
        "pypy": "Other",
        "python": "Other",
        "python2": "Other",
        "python3": "Other",
        "ruby": "Other",
        "script": "ScriptMagics",
        "sh": "Other",
        "svg": "DisplayMagics",
        "sx": "OSMagics",
        "system": "OSMagics",
        "time": "ExecutionMagics",
        "timeit": "ExecutionMagics",
        "writefile": "OSMagics"
       },
       "line": {
        "alias": "OSMagics",
        "alias_magic": "BasicMagics",
        "autoawait": "AsyncMagics",
        "autocall": "AutoMagics",
        "automagic": "AutoMagics",
        "autosave": "KernelMagics",
        "bookmark": "OSMagics",
        "cat": "Other",
        "cd": "OSMagics",
        "clear": "KernelMagics",
        "colors": "BasicMagics",
        "conda": "PipMagicOverrides",
        "config": "ConfigMagics",
        "connect_info": "KernelMagics",
        "cp": "Other",
        "debug": "ExecutionMagics",
        "dhist": "OSMagics",
        "dirs": "OSMagics",
        "doctest_mode": "BasicMagics",
        "ed": "Other",
        "edit": "KernelMagics",
        "env": "OSMagics",
        "gui": "BasicMagics",
        "hist": "Other",
        "history": "HistoryMagics",
        "killbgscripts": "ScriptMagics",
        "ldir": "Other",
        "less": "KernelMagics",
        "lf": "Other",
        "lk": "Other",
        "ll": "Other",
        "load": "CodeMagics",
        "load_ext": "ExtensionMagics",
        "loadpy": "CodeMagics",
        "logoff": "LoggingMagics",
        "logon": "LoggingMagics",
        "logstart": "LoggingMagics",
        "logstate": "LoggingMagics",
        "logstop": "LoggingMagics",
        "ls": "Other",
        "lsmagic": "BasicMagics",
        "lx": "Other",
        "macro": "ExecutionMagics",
        "magic": "BasicMagics",
        "man": "KernelMagics",
        "matplotlib": "PylabMagics",
        "mkdir": "Other",
        "more": "KernelMagics",
        "mv": "Other",
        "notebook": "BasicMagics",
        "page": "BasicMagics",
        "pastebin": "CodeMagics",
        "pdb": "ExecutionMagics",
        "pdef": "NamespaceMagics",
        "pdoc": "NamespaceMagics",
        "pfile": "NamespaceMagics",
        "pinfo": "NamespaceMagics",
        "pinfo2": "NamespaceMagics",
        "pip": "PipMagicOverrides",
        "popd": "OSMagics",
        "pprint": "BasicMagics",
        "precision": "BasicMagics",
        "prun": "ExecutionMagics",
        "psearch": "NamespaceMagics",
        "psource": "NamespaceMagics",
        "pushd": "OSMagics",
        "pwd": "OSMagics",
        "pycat": "OSMagics",
        "pylab": "PylabMagics",
        "qtconsole": "KernelMagics",
        "quickref": "BasicMagics",
        "recall": "HistoryMagics",
        "rehashx": "OSMagics",
        "reload_ext": "ExtensionMagics",
        "rep": "Other",
        "rerun": "HistoryMagics",
        "reset": "NamespaceMagics",
        "reset_selective": "NamespaceMagics",
        "rm": "Other",
        "rmdir": "Other",
        "run": "ExecutionMagics",
        "save": "CodeMagics",
        "sc": "OSMagics",
        "set_env": "OSMagics",
        "store": "StoreMagics",
        "sx": "OSMagics",
        "system": "OSMagics",
        "tb": "ExecutionMagics",
        "time": "ExecutionMagics",
        "timeit": "ExecutionMagics",
        "unalias": "OSMagics",
        "unload_ext": "ExtensionMagics",
        "who": "NamespaceMagics",
        "who_ls": "NamespaceMagics",
        "whos": "NamespaceMagics",
        "xdel": "NamespaceMagics",
        "xmode": "BasicMagics"
       }
      },
      "text/plain": [
       "Out[9]: ",
       "Available line magics:\n%alias  %alias_magic  %autoawait  %autocall  %automagic  %autosave  %bookmark  %cat  %cd  %clear  %colors  %conda  %config  %connect_info  %cp  %debug  %dhist  %dirs  %doctest_mode  %ed  %edit  %env  %gui  %hist  %history  %killbgscripts  %ldir  %less  %lf  %lk  %ll  %load  %load_ext  %loadpy  %logoff  %logon  %logstart  %logstate  %logstop  %ls  %lsmagic  %lx  %macro  %magic  %man  %matplotlib  %mkdir  %more  %mv  %notebook  %page  %pastebin  %pdb  %pdef  %pdoc  %pfile  %pinfo  %pinfo2  %pip  %popd  %pprint  %precision  %prun  %psearch  %psource  %pushd  %pwd  %pycat  %pylab  %qtconsole  %quickref  %recall  %rehashx  %reload_ext  %rep  %rerun  %reset  %reset_selective  %rm  %rmdir  %run  %save  %sc  %set_env  %store  %sx  %system  %tb  %time  %timeit  %unalias  %unload_ext  %who  %who_ls  %whos  %xdel  %xmode\n\nAvailable cell magics:\n%%!  %%HTML  %%SVG  %%bash  %%capture  %%debug  %%file  %%html  %%javascript  %%js  %%latex  %%markdown  %%perl  %%prun  %%pypy  %%python  %%python2  %%python3  %%ruby  %%script  %%sh  %%svg  %%sx  %%system  %%time  %%timeit  %%writefile\n\nAutomagic is ON, % prefix IS NOT needed for line magics."
      ]
     },
     "metadata": {},
     "output_type": "display_data"
    }
   ],
   "source": [
    "%lsmagic"
   ]
  },
  {
   "cell_type": "code",
   "execution_count": 0,
   "metadata": {
    "application/vnd.databricks.v1+cell": {
     "cellMetadata": {
      "byteLimit": 2048000,
      "rowLimit": 10000
     },
     "inputWidgets": {},
     "nuid": "d1c0b4a2-fbc3-4f40-af53-6d85b7830c1c",
     "showTitle": false,
     "tableResultSettingsMap": {},
     "title": ""
    }
   },
   "outputs": [
    {
     "output_type": "stream",
     "name": "stdout",
     "output_type": "stream",
     "text": [
      "Available objects for config:\n    AliasManager\n    DatabricksShell\n    DisplayFormatter\n    HistoryManager\n    IPCompleter\n    IPKernelApp\n    InlineBackend\n    LoggingMagics\n    MagicsManager\n    OSMagics\n    PrefilterManager\n    ScriptMagics\n    StoreMagics\n"
     ]
    }
   ],
   "source": [
    "%config\n"
   ]
  },
  {
   "cell_type": "code",
   "execution_count": 0,
   "metadata": {
    "application/vnd.databricks.v1+cell": {
     "cellMetadata": {
      "byteLimit": 2048000,
      "rowLimit": 10000
     },
     "inputWidgets": {},
     "nuid": "37a23887-dc1d-4b10-810f-00804d752f99",
     "showTitle": false,
     "tableResultSettingsMap": {},
     "title": ""
    }
   },
   "outputs": [
    {
     "output_type": "stream",
     "name": "stdout",
     "output_type": "stream",
     "text": [
      "Out[1]: {'SHELL': '/bin/bash',\n 'PIP_NO_INPUT': '1',\n 'SUDO_GID': '0',\n 'PYTHONHASHSEED': '0',\n 'DISABLE_LOCAL_FILESYSTEM': 'false',\n 'JAVA_HOME': '/usr/lib/jvm/zulu8-ca-amd64/jre/',\n 'MLFLOW_PYTHON_EXECUTABLE': '/databricks/spark/scripts/mlflow_python.sh',\n 'JAVA_OPTS': ' -Djava.io.tmpdir=/local_disk0/tmp -XX:-OmitStackTraceInFastThrow -Djava.security.properties=/databricks/spark/dbconf/java/extra.security -XX:-UseContainerSupport -XX:+PrintFlagsFinal -XX:+PrintGCDateStamps -XX:+PrintGCDetails -verbose:gc -Xss4m -Djava.library.path=/usr/java/packages/lib/amd64:/usr/lib64:/lib64:/lib:/usr/lib:/usr/lib/x86_64-linux-gnu/jni:/lib/x86_64-linux-gnu:/usr/lib/x86_64-linux-gnu:/usr/lib/jni -Djavax.xml.datatype.DatatypeFactory=com.sun.org.apache.xerces.internal.jaxp.datatype.DatatypeFactoryImpl -Djavax.xml.parsers.DocumentBuilderFactory=com.sun.org.apache.xerces.internal.jaxp.DocumentBuilderFactoryImpl -Djavax.xml.parsers.SAXParserFactory=com.sun.org.apache.xerces.internal.jaxp.SAXParserFactoryImpl -Djavax.xml.validation.SchemaFactory:http://www.w3.org/2001/XMLSchema=com.sun.org.apache.xerces.internal.jaxp.validation.XMLSchemaFactory -Dorg.xml.sax.driver=com.sun.org.apache.xerces.internal.parsers.SAXParser -Dorg.w3c.dom.DOMImplementationSourceList=com.sun.org.apache.xerces.internal.dom.DOMXSImplementationSourceImpl -Djavax.net.ssl.sessionCacheSize=10000 -Dscala.reflect.runtime.disable.typetag.cache=true -Dcom.google.cloud.spark.bigquery.repackaged.io.netty.tryReflectionSetAccessible=true -Dlog4j2.formatMsgNoLookups=true   -Ddatabricks.serviceName=driver-1 -Xms7254m -Xmx7254m -Dspark.ui.port=40001 -Dspark.executor.extraJavaOptions=\"-Djava.io.tmpdir=/local_disk0/tmp -XX:ReservedCodeCacheSize=512m -XX:+UseCodeCacheFlushing -XX:PerMethodRecompilationCutoff=-1 -XX:PerBytecodeRecompilationCutoff=-1 -Djava.security.properties=/databricks/spark/dbconf/java/extra.security -XX:-UseContainerSupport -XX:+PrintFlagsFinal -XX:+PrintGCDateStamps -XX:+PrintGCDetails -verbose:gc -Xss4m -Djava.library.path=/usr/java/packages/lib/amd64:/usr/lib64:/lib64:/lib:/usr/lib:/usr/lib/x86_64-linux-gnu/jni:/lib/x86_64-linux-gnu:/usr/lib/x86_64-linux-gnu:/usr/lib/jni -Djavax.xml.datatype.DatatypeFactory=com.sun.org.apache.xerces.internal.jaxp.datatype.DatatypeFactoryImpl -Djavax.xml.parsers.DocumentBuilderFactory=com.sun.org.apache.xerces.internal.jaxp.DocumentBuilderFactoryImpl -Djavax.xml.parsers.SAXParserFactory=com.sun.org.apache.xerces.internal.jaxp.SAXParserFactoryImpl -Djavax.xml.validation.SchemaFactory:http://www.w3.org/2001/XMLSchema=com.sun.org.apache.xerces.internal.jaxp.validation.XMLSchemaFactory -Dorg.xml.sax.driver=com.sun.org.apache.xerces.internal.parsers.SAXParser -Dorg.w3c.dom.DOMImplementationSourceList=com.sun.org.apache.xerces.internal.dom.DOMXSImplementationSourceImpl -Djavax.net.ssl.sessionCacheSize=10000 -Dscala.reflect.runtime.disable.typetag.cache=true -Dcom.google.cloud.spark.bigquery.repackaged.io.netty.tryReflectionSetAccessible=true -Dlog4j2.formatMsgNoLookups=true   -Ddatabricks.serviceName=spark-executor-1\" -Dspark.executor.memory=8278m -Dspark.executor.extraClassPath=/databricks/spark/dbconf/log4j/executor:/databricks/spark/dbconf/jets3t/:/databricks/spark/dbconf/hadoop:/databricks/hive/conf:/databricks/jars/*',\n 'SUDO_COMMAND': '/usr/bin/lxc-attach -n 0113-132359-ef44u2nk_10_172_191_33 -- env DB_HOME=/databricks CLUSTER_DB_HOME=/databricks bash -l -c bash ${DB_HOME:-/home/ubuntu/databricks}/spark/scripts/start_chauffeur.sh /tmp/chauffeur-env.sh',\n 'SUDO_USER': 'root',\n 'DATA_SECURITY_MODE': 'LEGACY_SINGLE_USER_STANDARD',\n 'PWD': '/databricks/driver',\n 'LOGNAME': 'root',\n 'DB_HOME': '/databricks',\n 'KOALAS_USAGE_LOGGER': 'pyspark.databricks.koalas.usage_logger',\n 'PYARROW_IGNORE_TIMEZONE': '1',\n 'container': 'lxc',\n 'HIVE_HOME': '/home/ubuntu/hive-0.9.0-bin',\n 'DRIVER_PID_FILE': '/tmp/driver-daemon.pid',\n 'HOME': '/root',\n 'DEFAULT_DATABRICKS_ROOT_VIRTUALENV_ENV': '/databricks/python3',\n 'LANG': 'C.UTF-8',\n 'MLFLOW_TRACKING_URI': 'databricks',\n 'R_LIBS': '/databricks/spark/R/lib:/local_disk0/.ephemeral_nfs/cluster_libraries/r',\n 'VIRTUAL_ENV': '/local_disk0/.ephemeral_nfs/envs/pythonEnv-c7396de7-516a-40ea-95d7-f6bfa2ee34a8',\n 'DATABRICKS_CLUSTER_LIBS_R_ROOT_DIR': 'r',\n 'CLUSTER_DB_HOME': '/databricks',\n 'PYSPARK_GATEWAY_SECRET': '<hidden>',\n 'DATABRICKS_RUNTIME_VERSION': '12.2',\n 'PYSPARK_PYTHON': '/databricks/python/bin/python',\n 'DATABRICKS_ROOT_VIRTUALENV_ENV': '/databricks/python3',\n 'PYTHONPATH': '/databricks/spark/python:/databricks/spark/python/lib/py4j-0.10.9.5-src.zip:/databricks/jars/spark--driver--driver-spark_3.3_2.12_deploy.jar:/WSFS_NOTEBOOK_DIR:/databricks/spark/python:/databricks/python_shell',\n 'TERM': 'xterm-color',\n 'USER': 'root',\n 'SPARK_PUBLIC_DNS': '10.172.191.33',\n 'SPARK_LOCAL_DIRS': '/local_disk0',\n 'PINNED_THREAD_MODE': 'true',\n 'SHLVL': '0',\n 'MASTER': 'local[8]',\n 'SPARK_HOME': '/databricks/spark',\n 'SPARK_LOCAL_IP': '10.172.191.33',\n 'MLFLOW_CONDA_HOME': '/databricks/conda',\n 'PYSPARK_GATEWAY_PORT': '37531',\n 'MPLBACKEND': 'AGG',\n 'CLASSPATH': '/databricks/spark/dbconf/jets3t/:/databricks/spark/dbconf/log4j/driver:/databricks/hive/conf:/databricks/spark/dbconf/hadoop:/databricks/jars/*',\n 'SPARK_CONF_DIR': '/databricks/spark/conf',\n 'SPARK_DIST_CLASSPATH': '/databricks/spark/dbconf/log4j/driver:/databricks/jars/*',\n 'PS1': '(pythonEnv-c7396de7-516a-40ea-95d7-f6bfa2ee34a8) ',\n 'PYENV_ROOT': '/databricks/.pyenv',\n 'ENABLE_IPTABLES': 'false',\n 'JUPYTER_WIDGETS_ECHO': '1',\n 'DATABRICKS_LIBS_NFS_ROOT_PATH': '/local_disk0/.ephemeral_nfs',\n 'SPARK_ENV_LOADED': '1',\n 'DATABRICKS_CLUSTER_LIBS_ROOT_DIR': 'cluster_libraries',\n 'PATH': '/local_disk0/.ephemeral_nfs/envs/pythonEnv-c7396de7-516a-40ea-95d7-f6bfa2ee34a8/bin:/local_disk0/.ephemeral_nfs/cluster_libraries/python/bin:/databricks/.pyenv/bin:/usr/local/nvidia/bin:/databricks/python3/bin:/usr/local/sbin:/usr/local/bin:/usr/sbin:/usr/bin:/sbin:/bin:/snap/bin',\n 'DATABRICKS_LIBS_NFS_ROOT_DIR': '.ephemeral_nfs',\n 'SUDO_UID': '0',\n 'DATABRICKS_CLUSTER_LIBS_PYTHON_ROOT_DIR': 'python',\n 'SPARK_SCALA_VERSION': '2.12',\n 'MAIL': '/var/mail/root',\n 'SCALA_VERSION': '2.10',\n 'LOW_PRIVILEGED_LIBRARY_INSTALLATION_USER': 'libraries',\n 'OLDPWD': '/databricks/chauffeur',\n 'SPARK_WORKER_MEMORY': '10348m',\n 'PYDEVD_USE_FRAME_EVAL': 'NO',\n 'SPARK_AUTH_SOCKET_TIMEOUT': '15',\n 'SPARK_BUFFER_SIZE': '65536',\n 'CLICOLOR': '1',\n 'PAGER': 'cat',\n 'GIT_PAGER': 'cat'}"
     ]
    }
   ],
   "source": [
    "%env"
   ]
  },
  {
   "cell_type": "code",
   "execution_count": 0,
   "metadata": {
    "application/vnd.databricks.v1+cell": {
     "cellMetadata": {
      "byteLimit": 2048000,
      "rowLimit": 10000
     },
     "inputWidgets": {},
     "nuid": "bc7c3846-7fa9-4c07-ae40-a199f5fc5e30",
     "showTitle": false,
     "tableResultSettingsMap": {},
     "title": ""
    }
   },
   "outputs": [
    {
     "output_type": "stream",
     "name": "stdout",
     "output_type": "stream",
     "text": [
      "env: HELLO=\"hi\"\n"
     ]
    }
   ],
   "source": [
    "%set_env HELLO=\"hi\""
   ]
  },
  {
   "cell_type": "code",
   "execution_count": 0,
   "metadata": {
    "application/vnd.databricks.v1+cell": {
     "cellMetadata": {
      "byteLimit": 2048000,
      "rowLimit": 10000
     },
     "inputWidgets": {},
     "nuid": "de0241e5-ad0e-45f2-beed-287ecb4c4adf",
     "showTitle": false,
     "tableResultSettingsMap": {},
     "title": ""
    }
   },
   "outputs": [
    {
     "output_type": "stream",
     "name": "stdout",
     "output_type": "stream",
     "text": [
      "\"hi\"\n"
     ]
    }
   ],
   "source": [
    "%sh\n",
    "echo $HELLO"
   ]
  },
  {
   "cell_type": "code",
   "execution_count": 0,
   "metadata": {
    "application/vnd.databricks.v1+cell": {
     "cellMetadata": {
      "byteLimit": 2048000,
      "rowLimit": 10000
     },
     "inputWidgets": {},
     "nuid": "a8568ab5-ae79-4de7-b447-c6eebe90a02a",
     "showTitle": false,
     "tableResultSettingsMap": {},
     "title": ""
    }
   },
   "outputs": [
    {
     "output_type": "stream",
     "name": "stdout",
     "output_type": "stream",
     "text": [
      "4\n"
     ]
    }
   ],
   "source": [
    "var = 4\n",
    "print(var)"
   ]
  },
  {
   "cell_type": "markdown",
   "metadata": {
    "application/vnd.databricks.v1+cell": {
     "cellMetadata": {},
     "inputWidgets": {},
     "nuid": "dc2f37b0-f3d1-45ee-a99a-59493bd5a0ee",
     "showTitle": false,
     "tableResultSettingsMap": {},
     "title": ""
    }
   },
   "source": []
  }
 ],
 "metadata": {
  "application/vnd.databricks.v1+notebook": {
   "computePreferences": null,
   "dashboards": [
    {
     "elements": [
      {
       "dashboardResultIndex": 0,
       "elementNUID": "1bff6ef7-7828-4ede-ac86-a40ae58401fd",
       "elementType": "command",
       "guid": "1f34b5e1-df88-4aac-b87a-ea726a112916",
       "options": null,
       "position": {
        "height": 6,
        "width": 12,
        "x": 0,
        "y": 0,
        "z": null
       },
       "resultIndex": null
      },
      {
       "dashboardResultIndex": null,
       "elementNUID": "dfa3ecfa-7102-4b44-8e43-ff387810d1c8",
       "elementType": "command",
       "guid": "40c9cacd-655d-4b0a-8a9c-a4b20902a0ca",
       "options": null,
       "position": {
        "height": 6,
        "width": 12,
        "x": 0,
        "y": 6,
        "z": null
       },
       "resultIndex": null
      },
      {
       "dashboardResultIndex": null,
       "elementNUID": "dc2f37b0-f3d1-45ee-a99a-59493bd5a0ee",
       "elementType": "command",
       "guid": "f89e2ad3-5178-4c3f-aab1-62d1c7e4e02e",
       "options": null,
       "position": {
        "height": 1,
        "width": 12,
        "x": 0,
        "y": 12,
        "z": null
       },
       "resultIndex": null
      }
     ],
     "globalVars": {},
     "guid": "",
     "layoutOption": {
      "grid": true,
      "stack": true
     },
     "nuid": "5d675c18-0d13-4c19-9ea7-1eee9c8206d9",
     "origId": 478122313866163,
     "title": "Demo Dashboard",
     "version": "DashboardViewV1",
     "width": 1024
    }
   ],
   "environmentMetadata": {
    "base_environment": "",
    "client": "1"
   },
   "language": "python",
   "notebookMetadata": {
    "mostRecentlyExecutedCommandWithImplicitDF": {
     "commandId": 478122313866170,
     "dataframes": [
      "_sqldf"
     ]
    },
    "pythonIndentUnit": 4
   },
   "notebookName": "example_notebook",
   "widgets": {}
  }
 },
 "nbformat": 4,
 "nbformat_minor": 0
}
