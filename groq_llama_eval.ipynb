{
 "cells": [
  {
   "cell_type": "code",
   "execution_count": 0,
   "metadata": {
    "application/vnd.databricks.v1+cell": {
     "cellMetadata": {
      "byteLimit": 2048000,
      "rowLimit": 10000
     },
     "inputWidgets": {},
     "nuid": "60636687-a071-42d0-98e0-22ab3d731785",
     "showTitle": false,
     "tableResultSettingsMap": {},
     "title": ""
    }
   },
   "outputs": [
    {
     "output_type": "stream",
     "name": "stdout",
     "output_type": "stream",
     "text": [
      "Python interpreter will be restarted.\nRequirement already satisfied: mlflow in /local_disk0/.ephemeral_nfs/envs/pythonEnv-de8c8840-fe84-47be-b083-a001f22d1928/lib/python3.9/site-packages (2.19.0)\nRequirement already satisfied: sqlalchemy<3,>=1.4.0 in /local_disk0/.ephemeral_nfs/envs/pythonEnv-de8c8840-fe84-47be-b083-a001f22d1928/lib/python3.9/site-packages (from mlflow) (2.0.37)\nRequirement already satisfied: graphene<4 in /local_disk0/.ephemeral_nfs/envs/pythonEnv-de8c8840-fe84-47be-b083-a001f22d1928/lib/python3.9/site-packages (from mlflow) (3.4.3)\nRequirement already satisfied: scipy<2 in /databricks/python3/lib/python3.9/site-packages (from mlflow) (1.7.3)\nRequirement already satisfied: docker<8,>=4.0.0 in /local_disk0/.ephemeral_nfs/envs/pythonEnv-de8c8840-fe84-47be-b083-a001f22d1928/lib/python3.9/site-packages (from mlflow) (7.1.0)\nRequirement already satisfied: numpy<3 in /databricks/python3/lib/python3.9/site-packages (from mlflow) (1.21.5)\nRequirement already satisfied: Flask<4 in /local_disk0/.ephemeral_nfs/envs/pythonEnv-de8c8840-fe84-47be-b083-a001f22d1928/lib/python3.9/site-packages (from mlflow) (3.1.0)\nRequirement already satisfied: mlflow-skinny==2.19.0 in /local_disk0/.ephemeral_nfs/envs/pythonEnv-de8c8840-fe84-47be-b083-a001f22d1928/lib/python3.9/site-packages (from mlflow) (2.19.0)\nRequirement already satisfied: pyarrow<19,>=4.0.0 in /databricks/python3/lib/python3.9/site-packages (from mlflow) (7.0.0)\nRequirement already satisfied: gunicorn<24 in /local_disk0/.ephemeral_nfs/envs/pythonEnv-de8c8840-fe84-47be-b083-a001f22d1928/lib/python3.9/site-packages (from mlflow) (23.0.0)\nRequirement already satisfied: markdown<4,>=3.3 in /local_disk0/.ephemeral_nfs/envs/pythonEnv-de8c8840-fe84-47be-b083-a001f22d1928/lib/python3.9/site-packages (from mlflow) (3.7)\nRequirement already satisfied: pandas<3 in /databricks/python3/lib/python3.9/site-packages (from mlflow) (1.4.2)\nRequirement already satisfied: scikit-learn<2 in /databricks/python3/lib/python3.9/site-packages (from mlflow) (1.0.2)\nRequirement already satisfied: alembic!=1.10.0,<2 in /local_disk0/.ephemeral_nfs/envs/pythonEnv-de8c8840-fe84-47be-b083-a001f22d1928/lib/python3.9/site-packages (from mlflow) (1.14.0)\nRequirement already satisfied: matplotlib<4 in /databricks/python3/lib/python3.9/site-packages (from mlflow) (3.5.1)\nRequirement already satisfied: Jinja2<4,>=2.11 in /local_disk0/.ephemeral_nfs/envs/pythonEnv-de8c8840-fe84-47be-b083-a001f22d1928/lib/python3.9/site-packages (from mlflow) (3.1.5)\nRequirement already satisfied: sqlparse<1,>=0.4.0 in /local_disk0/.ephemeral_nfs/envs/pythonEnv-de8c8840-fe84-47be-b083-a001f22d1928/lib/python3.9/site-packages (from mlflow-skinny==2.19.0->mlflow) (0.5.3)\nRequirement already satisfied: requests<3,>=2.17.3 in /local_disk0/.ephemeral_nfs/envs/pythonEnv-de8c8840-fe84-47be-b083-a001f22d1928/lib/python3.9/site-packages (from mlflow-skinny==2.19.0->mlflow) (2.32.3)\nRequirement already satisfied: opentelemetry-api<3,>=1.9.0 in /local_disk0/.ephemeral_nfs/envs/pythonEnv-de8c8840-fe84-47be-b083-a001f22d1928/lib/python3.9/site-packages (from mlflow-skinny==2.19.0->mlflow) (1.29.0)\nRequirement already satisfied: click<9,>=7.0 in /local_disk0/.ephemeral_nfs/envs/pythonEnv-de8c8840-fe84-47be-b083-a001f22d1928/lib/python3.9/site-packages (from mlflow-skinny==2.19.0->mlflow) (8.1.8)\nRequirement already satisfied: opentelemetry-sdk<3,>=1.9.0 in /local_disk0/.ephemeral_nfs/envs/pythonEnv-de8c8840-fe84-47be-b083-a001f22d1928/lib/python3.9/site-packages (from mlflow-skinny==2.19.0->mlflow) (1.29.0)\nRequirement already satisfied: protobuf<6,>=3.12.0 in /databricks/python3/lib/python3.9/site-packages (from mlflow-skinny==2.19.0->mlflow) (3.19.4)\nRequirement already satisfied: cloudpickle<4 in /local_disk0/.ephemeral_nfs/envs/pythonEnv-de8c8840-fe84-47be-b083-a001f22d1928/lib/python3.9/site-packages (from mlflow-skinny==2.19.0->mlflow) (3.1.0)\nRequirement already satisfied: importlib_metadata!=4.7.0,<9,>=3.7.0 in /local_disk0/.ephemeral_nfs/envs/pythonEnv-de8c8840-fe84-47be-b083-a001f22d1928/lib/python3.9/site-packages (from mlflow-skinny==2.19.0->mlflow) (8.5.0)\nRequirement already satisfied: pyyaml<7,>=5.1 in /local_disk0/.ephemeral_nfs/envs/pythonEnv-de8c8840-fe84-47be-b083-a001f22d1928/lib/python3.9/site-packages (from mlflow-skinny==2.19.0->mlflow) (6.0.2)\nRequirement already satisfied: gitpython<4,>=3.1.9 in /local_disk0/.ephemeral_nfs/envs/pythonEnv-de8c8840-fe84-47be-b083-a001f22d1928/lib/python3.9/site-packages (from mlflow-skinny==2.19.0->mlflow) (3.1.44)\nRequirement already satisfied: cachetools<6,>=5.0.0 in /local_disk0/.ephemeral_nfs/envs/pythonEnv-de8c8840-fe84-47be-b083-a001f22d1928/lib/python3.9/site-packages (from mlflow-skinny==2.19.0->mlflow) (5.5.0)\nRequirement already satisfied: packaging<25 in /databricks/python3/lib/python3.9/site-packages (from mlflow-skinny==2.19.0->mlflow) (21.3)\nRequirement already satisfied: databricks-sdk<1,>=0.20.0 in /local_disk0/.ephemeral_nfs/envs/pythonEnv-de8c8840-fe84-47be-b083-a001f22d1928/lib/python3.9/site-packages (from mlflow-skinny==2.19.0->mlflow) (0.40.0)\nRequirement already satisfied: typing-extensions>=4 in /local_disk0/.ephemeral_nfs/envs/pythonEnv-de8c8840-fe84-47be-b083-a001f22d1928/lib/python3.9/site-packages (from alembic!=1.10.0,<2->mlflow) (4.12.2)\nRequirement already satisfied: Mako in /local_disk0/.ephemeral_nfs/envs/pythonEnv-de8c8840-fe84-47be-b083-a001f22d1928/lib/python3.9/site-packages (from alembic!=1.10.0,<2->mlflow) (1.3.8)\nRequirement already satisfied: google-auth~=2.0 in /local_disk0/.ephemeral_nfs/envs/pythonEnv-de8c8840-fe84-47be-b083-a001f22d1928/lib/python3.9/site-packages (from databricks-sdk<1,>=0.20.0->mlflow-skinny==2.19.0->mlflow) (2.37.0)\nRequirement already satisfied: urllib3>=1.26.0 in /databricks/python3/lib/python3.9/site-packages (from docker<8,>=4.0.0->mlflow) (1.26.9)\nRequirement already satisfied: blinker>=1.9 in /local_disk0/.ephemeral_nfs/envs/pythonEnv-de8c8840-fe84-47be-b083-a001f22d1928/lib/python3.9/site-packages (from Flask<4->mlflow) (1.9.0)\nRequirement already satisfied: Werkzeug>=3.1 in /local_disk0/.ephemeral_nfs/envs/pythonEnv-de8c8840-fe84-47be-b083-a001f22d1928/lib/python3.9/site-packages (from Flask<4->mlflow) (3.1.3)\nRequirement already satisfied: itsdangerous>=2.2 in /local_disk0/.ephemeral_nfs/envs/pythonEnv-de8c8840-fe84-47be-b083-a001f22d1928/lib/python3.9/site-packages (from Flask<4->mlflow) (2.2.0)\nRequirement already satisfied: gitdb<5,>=4.0.1 in /local_disk0/.ephemeral_nfs/envs/pythonEnv-de8c8840-fe84-47be-b083-a001f22d1928/lib/python3.9/site-packages (from gitpython<4,>=3.1.9->mlflow-skinny==2.19.0->mlflow) (4.0.12)\nRequirement already satisfied: smmap<6,>=3.0.1 in /local_disk0/.ephemeral_nfs/envs/pythonEnv-de8c8840-fe84-47be-b083-a001f22d1928/lib/python3.9/site-packages (from gitdb<5,>=4.0.1->gitpython<4,>=3.1.9->mlflow-skinny==2.19.0->mlflow) (5.0.2)\nRequirement already satisfied: rsa<5,>=3.1.4 in /local_disk0/.ephemeral_nfs/envs/pythonEnv-de8c8840-fe84-47be-b083-a001f22d1928/lib/python3.9/site-packages (from google-auth~=2.0->databricks-sdk<1,>=0.20.0->mlflow-skinny==2.19.0->mlflow) (4.9)\nRequirement already satisfied: pyasn1-modules>=0.2.1 in /local_disk0/.ephemeral_nfs/envs/pythonEnv-de8c8840-fe84-47be-b083-a001f22d1928/lib/python3.9/site-packages (from google-auth~=2.0->databricks-sdk<1,>=0.20.0->mlflow-skinny==2.19.0->mlflow) (0.4.1)\nRequirement already satisfied: python-dateutil<3,>=2.7.0 in /databricks/python3/lib/python3.9/site-packages (from graphene<4->mlflow) (2.8.2)\nRequirement already satisfied: graphql-core<3.3,>=3.1 in /local_disk0/.ephemeral_nfs/envs/pythonEnv-de8c8840-fe84-47be-b083-a001f22d1928/lib/python3.9/site-packages (from graphene<4->mlflow) (3.2.5)\nRequirement already satisfied: graphql-relay<3.3,>=3.1 in /local_disk0/.ephemeral_nfs/envs/pythonEnv-de8c8840-fe84-47be-b083-a001f22d1928/lib/python3.9/site-packages (from graphene<4->mlflow) (3.2.0)\nRequirement already satisfied: zipp>=3.20 in /local_disk0/.ephemeral_nfs/envs/pythonEnv-de8c8840-fe84-47be-b083-a001f22d1928/lib/python3.9/site-packages (from importlib_metadata!=4.7.0,<9,>=3.7.0->mlflow-skinny==2.19.0->mlflow) (3.21.0)\nRequirement already satisfied: MarkupSafe>=2.0 in /local_disk0/.ephemeral_nfs/envs/pythonEnv-de8c8840-fe84-47be-b083-a001f22d1928/lib/python3.9/site-packages (from Jinja2<4,>=2.11->mlflow) (3.0.2)\nRequirement already satisfied: pyparsing>=2.2.1 in /databricks/python3/lib/python3.9/site-packages (from matplotlib<4->mlflow) (3.0.4)\nRequirement already satisfied: cycler>=0.10 in /databricks/python3/lib/python3.9/site-packages (from matplotlib<4->mlflow) (0.11.0)\nRequirement already satisfied: kiwisolver>=1.0.1 in /databricks/python3/lib/python3.9/site-packages (from matplotlib<4->mlflow) (1.3.2)\nRequirement already satisfied: pillow>=6.2.0 in /databricks/python3/lib/python3.9/site-packages (from matplotlib<4->mlflow) (9.0.1)\nRequirement already satisfied: fonttools>=4.22.0 in /databricks/python3/lib/python3.9/site-packages (from matplotlib<4->mlflow) (4.25.0)\nRequirement already satisfied: deprecated>=1.2.6 in /local_disk0/.ephemeral_nfs/envs/pythonEnv-de8c8840-fe84-47be-b083-a001f22d1928/lib/python3.9/site-packages (from opentelemetry-api<3,>=1.9.0->mlflow-skinny==2.19.0->mlflow) (1.2.15)\nRequirement already satisfied: wrapt<2,>=1.10 in /local_disk0/.ephemeral_nfs/envs/pythonEnv-de8c8840-fe84-47be-b083-a001f22d1928/lib/python3.9/site-packages (from deprecated>=1.2.6->opentelemetry-api<3,>=1.9.0->mlflow-skinny==2.19.0->mlflow) (1.17.1)\nRequirement already satisfied: opentelemetry-semantic-conventions==0.50b0 in /local_disk0/.ephemeral_nfs/envs/pythonEnv-de8c8840-fe84-47be-b083-a001f22d1928/lib/python3.9/site-packages (from opentelemetry-sdk<3,>=1.9.0->mlflow-skinny==2.19.0->mlflow) (0.50b0)\nRequirement already satisfied: pytz>=2020.1 in /databricks/python3/lib/python3.9/site-packages (from pandas<3->mlflow) (2021.3)\nRequirement already satisfied: pyasn1<0.7.0,>=0.4.6 in /local_disk0/.ephemeral_nfs/envs/pythonEnv-de8c8840-fe84-47be-b083-a001f22d1928/lib/python3.9/site-packages (from pyasn1-modules>=0.2.1->google-auth~=2.0->databricks-sdk<1,>=0.20.0->mlflow-skinny==2.19.0->mlflow) (0.6.1)\nRequirement already satisfied: six>=1.5 in /databricks/python3/lib/python3.9/site-packages (from python-dateutil<3,>=2.7.0->graphene<4->mlflow) (1.16.0)\nRequirement already satisfied: certifi>=2017.4.17 in /databricks/python3/lib/python3.9/site-packages (from requests<3,>=2.17.3->mlflow-skinny==2.19.0->mlflow) (2021.10.8)\nRequirement already satisfied: idna<4,>=2.5 in /databricks/python3/lib/python3.9/site-packages (from requests<3,>=2.17.3->mlflow-skinny==2.19.0->mlflow) (3.3)\nRequirement already satisfied: charset-normalizer<4,>=2 in /databricks/python3/lib/python3.9/site-packages (from requests<3,>=2.17.3->mlflow-skinny==2.19.0->mlflow) (2.0.4)\nRequirement already satisfied: joblib>=0.11 in /databricks/python3/lib/python3.9/site-packages (from scikit-learn<2->mlflow) (1.1.1)\nRequirement already satisfied: threadpoolctl>=2.0.0 in /databricks/python3/lib/python3.9/site-packages (from scikit-learn<2->mlflow) (2.2.0)\nRequirement already satisfied: greenlet!=0.4.17 in /local_disk0/.ephemeral_nfs/envs/pythonEnv-de8c8840-fe84-47be-b083-a001f22d1928/lib/python3.9/site-packages (from sqlalchemy<3,>=1.4.0->mlflow) (3.1.1)\nPython interpreter will be restarted.\nPython interpreter will be restarted.\nRequirement already satisfied: groq in /local_disk0/.ephemeral_nfs/envs/pythonEnv-de8c8840-fe84-47be-b083-a001f22d1928/lib/python3.9/site-packages (0.15.0)\nRequirement already satisfied: typing-extensions<5,>=4.10 in /local_disk0/.ephemeral_nfs/envs/pythonEnv-de8c8840-fe84-47be-b083-a001f22d1928/lib/python3.9/site-packages (from groq) (4.12.2)\nRequirement already satisfied: httpx<1,>=0.23.0 in /local_disk0/.ephemeral_nfs/envs/pythonEnv-de8c8840-fe84-47be-b083-a001f22d1928/lib/python3.9/site-packages (from groq) (0.28.1)\nRequirement already satisfied: distro<2,>=1.7.0 in /local_disk0/.ephemeral_nfs/envs/pythonEnv-de8c8840-fe84-47be-b083-a001f22d1928/lib/python3.9/site-packages (from groq) (1.9.0)\nRequirement already satisfied: sniffio in /local_disk0/.ephemeral_nfs/envs/pythonEnv-de8c8840-fe84-47be-b083-a001f22d1928/lib/python3.9/site-packages (from groq) (1.3.1)\nRequirement already satisfied: pydantic<3,>=1.9.0 in /local_disk0/.ephemeral_nfs/envs/pythonEnv-de8c8840-fe84-47be-b083-a001f22d1928/lib/python3.9/site-packages (from groq) (2.10.5)\nRequirement already satisfied: anyio<5,>=3.5.0 in /local_disk0/.ephemeral_nfs/envs/pythonEnv-de8c8840-fe84-47be-b083-a001f22d1928/lib/python3.9/site-packages (from groq) (4.8.0)\nRequirement already satisfied: exceptiongroup>=1.0.2 in /local_disk0/.ephemeral_nfs/envs/pythonEnv-de8c8840-fe84-47be-b083-a001f22d1928/lib/python3.9/site-packages (from anyio<5,>=3.5.0->groq) (1.2.2)\nRequirement already satisfied: idna>=2.8 in /databricks/python3/lib/python3.9/site-packages (from anyio<5,>=3.5.0->groq) (3.3)\nRequirement already satisfied: certifi in /databricks/python3/lib/python3.9/site-packages (from httpx<1,>=0.23.0->groq) (2021.10.8)\nRequirement already satisfied: httpcore==1.* in /local_disk0/.ephemeral_nfs/envs/pythonEnv-de8c8840-fe84-47be-b083-a001f22d1928/lib/python3.9/site-packages (from httpx<1,>=0.23.0->groq) (1.0.7)\nRequirement already satisfied: h11<0.15,>=0.13 in /local_disk0/.ephemeral_nfs/envs/pythonEnv-de8c8840-fe84-47be-b083-a001f22d1928/lib/python3.9/site-packages (from httpcore==1.*->httpx<1,>=0.23.0->groq) (0.14.0)\nRequirement already satisfied: annotated-types>=0.6.0 in /local_disk0/.ephemeral_nfs/envs/pythonEnv-de8c8840-fe84-47be-b083-a001f22d1928/lib/python3.9/site-packages (from pydantic<3,>=1.9.0->groq) (0.7.0)\nRequirement already satisfied: pydantic-core==2.27.2 in /local_disk0/.ephemeral_nfs/envs/pythonEnv-de8c8840-fe84-47be-b083-a001f22d1928/lib/python3.9/site-packages (from pydantic<3,>=1.9.0->groq) (2.27.2)\nPython interpreter will be restarted.\nPython interpreter will be restarted.\nRequirement already satisfied: openai in /local_disk0/.ephemeral_nfs/envs/pythonEnv-de8c8840-fe84-47be-b083-a001f22d1928/lib/python3.9/site-packages (1.59.7)\nRequirement already satisfied: typing-extensions<5,>=4.11 in /local_disk0/.ephemeral_nfs/envs/pythonEnv-de8c8840-fe84-47be-b083-a001f22d1928/lib/python3.9/site-packages (from openai) (4.12.2)\nRequirement already satisfied: httpx<1,>=0.23.0 in /local_disk0/.ephemeral_nfs/envs/pythonEnv-de8c8840-fe84-47be-b083-a001f22d1928/lib/python3.9/site-packages (from openai) (0.28.1)\nRequirement already satisfied: distro<2,>=1.7.0 in /local_disk0/.ephemeral_nfs/envs/pythonEnv-de8c8840-fe84-47be-b083-a001f22d1928/lib/python3.9/site-packages (from openai) (1.9.0)\nRequirement already satisfied: jiter<1,>=0.4.0 in /local_disk0/.ephemeral_nfs/envs/pythonEnv-de8c8840-fe84-47be-b083-a001f22d1928/lib/python3.9/site-packages (from openai) (0.8.2)\nRequirement already satisfied: sniffio in /local_disk0/.ephemeral_nfs/envs/pythonEnv-de8c8840-fe84-47be-b083-a001f22d1928/lib/python3.9/site-packages (from openai) (1.3.1)\nRequirement already satisfied: tqdm>4 in /local_disk0/.ephemeral_nfs/envs/pythonEnv-de8c8840-fe84-47be-b083-a001f22d1928/lib/python3.9/site-packages (from openai) (4.67.1)\nRequirement already satisfied: pydantic<3,>=1.9.0 in /local_disk0/.ephemeral_nfs/envs/pythonEnv-de8c8840-fe84-47be-b083-a001f22d1928/lib/python3.9/site-packages (from openai) (2.10.5)\nRequirement already satisfied: anyio<5,>=3.5.0 in /local_disk0/.ephemeral_nfs/envs/pythonEnv-de8c8840-fe84-47be-b083-a001f22d1928/lib/python3.9/site-packages (from openai) (4.8.0)\nRequirement already satisfied: exceptiongroup>=1.0.2 in /local_disk0/.ephemeral_nfs/envs/pythonEnv-de8c8840-fe84-47be-b083-a001f22d1928/lib/python3.9/site-packages (from anyio<5,>=3.5.0->openai) (1.2.2)\nRequirement already satisfied: idna>=2.8 in /databricks/python3/lib/python3.9/site-packages (from anyio<5,>=3.5.0->openai) (3.3)\nRequirement already satisfied: certifi in /databricks/python3/lib/python3.9/site-packages (from httpx<1,>=0.23.0->openai) (2021.10.8)\nRequirement already satisfied: httpcore==1.* in /local_disk0/.ephemeral_nfs/envs/pythonEnv-de8c8840-fe84-47be-b083-a001f22d1928/lib/python3.9/site-packages (from httpx<1,>=0.23.0->openai) (1.0.7)\nRequirement already satisfied: h11<0.15,>=0.13 in /local_disk0/.ephemeral_nfs/envs/pythonEnv-de8c8840-fe84-47be-b083-a001f22d1928/lib/python3.9/site-packages (from httpcore==1.*->httpx<1,>=0.23.0->openai) (0.14.0)\nRequirement already satisfied: annotated-types>=0.6.0 in /local_disk0/.ephemeral_nfs/envs/pythonEnv-de8c8840-fe84-47be-b083-a001f22d1928/lib/python3.9/site-packages (from pydantic<3,>=1.9.0->openai) (0.7.0)\nRequirement already satisfied: pydantic-core==2.27.2 in /local_disk0/.ephemeral_nfs/envs/pythonEnv-de8c8840-fe84-47be-b083-a001f22d1928/lib/python3.9/site-packages (from pydantic<3,>=1.9.0->openai) (2.27.2)\nPython interpreter will be restarted.\nPython interpreter will be restarted.\nRequirement already satisfied: tiktoken in /local_disk0/.ephemeral_nfs/envs/pythonEnv-de8c8840-fe84-47be-b083-a001f22d1928/lib/python3.9/site-packages (0.8.0)\nRequirement already satisfied: requests>=2.26.0 in /local_disk0/.ephemeral_nfs/envs/pythonEnv-de8c8840-fe84-47be-b083-a001f22d1928/lib/python3.9/site-packages (from tiktoken) (2.32.3)\nRequirement already satisfied: regex>=2022.1.18 in /local_disk0/.ephemeral_nfs/envs/pythonEnv-de8c8840-fe84-47be-b083-a001f22d1928/lib/python3.9/site-packages (from tiktoken) (2024.11.6)\nRequirement already satisfied: urllib3<3,>=1.21.1 in /databricks/python3/lib/python3.9/site-packages (from requests>=2.26.0->tiktoken) (1.26.9)\nRequirement already satisfied: certifi>=2017.4.17 in /databricks/python3/lib/python3.9/site-packages (from requests>=2.26.0->tiktoken) (2021.10.8)\nRequirement already satisfied: idna<4,>=2.5 in /databricks/python3/lib/python3.9/site-packages (from requests>=2.26.0->tiktoken) (3.3)\nRequirement already satisfied: charset-normalizer<4,>=2 in /databricks/python3/lib/python3.9/site-packages (from requests>=2.26.0->tiktoken) (2.0.4)\nPython interpreter will be restarted.\nPython interpreter will be restarted.\nRequirement already satisfied: pandas in /databricks/python3/lib/python3.9/site-packages (1.4.2)\nRequirement already satisfied: python-dateutil>=2.8.1 in /databricks/python3/lib/python3.9/site-packages (from pandas) (2.8.2)\nRequirement already satisfied: numpy>=1.18.5 in /databricks/python3/lib/python3.9/site-packages (from pandas) (1.21.5)\nRequirement already satisfied: pytz>=2020.1 in /databricks/python3/lib/python3.9/site-packages (from pandas) (2021.3)\nRequirement already satisfied: six>=1.5 in /databricks/python3/lib/python3.9/site-packages (from python-dateutil>=2.8.1->pandas) (1.16.0)\nPython interpreter will be restarted.\n"
     ]
    }
   ],
   "source": [
    "%pip install mlflow\n",
    "%pip install groq\n",
    "%pip install tiktoken\n",
    "%pip install pandas"
   ]
  },
  {
   "cell_type": "code",
   "execution_count": 0,
   "metadata": {
    "application/vnd.databricks.v1+cell": {
     "cellMetadata": {
      "byteLimit": 2048000,
      "rowLimit": 10000
     },
     "inputWidgets": {},
     "nuid": "0c4b298c-f7b8-4a80-b7b7-017f94e831df",
     "showTitle": false,
     "tableResultSettingsMap": {},
     "title": ""
    }
   },
   "outputs": [
    {
     "output_type": "stream",
     "name": "stdout",
     "output_type": "stream",
     "text": [
      "env: GROQ_API_KEY=\"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\"\n"
     ]
    }
   ],
   "source": [
    "%set_env GROQ_API_KEY=\"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\""
   ]
  },
  {
   "cell_type": "code",
   "execution_count": 0,
   "metadata": {
    "application/vnd.databricks.v1+cell": {
     "cellMetadata": {
      "byteLimit": 2048000,
      "rowLimit": 10000
     },
     "collapsed": true,
     "inputWidgets": {},
     "nuid": "22b125d4-1a03-4952-b349-8a8eeee9fcf8",
     "showTitle": false,
     "tableResultSettingsMap": {},
     "title": ""
    }
   },
   "outputs": [
    {
     "output_type": "stream",
     "name": "stdout",
     "output_type": "stream",
     "text": [
      "Out[8]: {'SHELL': '/bin/bash',\n 'PIP_NO_INPUT': '1',\n 'SUDO_GID': '0',\n 'PYTHONHASHSEED': '0',\n 'DISABLE_LOCAL_FILESYSTEM': 'false',\n 'JAVA_HOME': '/usr/lib/jvm/zulu8-ca-amd64/jre/',\n 'MLFLOW_PYTHON_EXECUTABLE': '/databricks/spark/scripts/mlflow_python.sh',\n 'JAVA_OPTS': ' -Djava.io.tmpdir=/local_disk0/tmp -XX:-OmitStackTraceInFastThrow -Djava.security.properties=/databricks/spark/dbconf/java/extra.security -XX:-UseContainerSupport -XX:+PrintFlagsFinal -XX:+PrintGCDateStamps -XX:+PrintGCDetails -verbose:gc -Xss4m -Djava.library.path=/usr/java/packages/lib/amd64:/usr/lib64:/lib64:/lib:/usr/lib:/usr/lib/x86_64-linux-gnu/jni:/lib/x86_64-linux-gnu:/usr/lib/x86_64-linux-gnu:/usr/lib/jni -Djavax.xml.datatype.DatatypeFactory=com.sun.org.apache.xerces.internal.jaxp.datatype.DatatypeFactoryImpl -Djavax.xml.parsers.DocumentBuilderFactory=com.sun.org.apache.xerces.internal.jaxp.DocumentBuilderFactoryImpl -Djavax.xml.parsers.SAXParserFactory=com.sun.org.apache.xerces.internal.jaxp.SAXParserFactoryImpl -Djavax.xml.validation.SchemaFactory:http://www.w3.org/2001/XMLSchema=com.sun.org.apache.xerces.internal.jaxp.validation.XMLSchemaFactory -Dorg.xml.sax.driver=com.sun.org.apache.xerces.internal.parsers.SAXParser -Dorg.w3c.dom.DOMImplementationSourceList=com.sun.org.apache.xerces.internal.dom.DOMXSImplementationSourceImpl -Djavax.net.ssl.sessionCacheSize=10000 -Dscala.reflect.runtime.disable.typetag.cache=true -Dcom.google.cloud.spark.bigquery.repackaged.io.netty.tryReflectionSetAccessible=true -Dlog4j2.formatMsgNoLookups=true   -Ddatabricks.serviceName=driver-1 -Xms7254m -Xmx7254m -Dspark.ui.port=40001 -Dspark.executor.extraJavaOptions=\"-Djava.io.tmpdir=/local_disk0/tmp -XX:ReservedCodeCacheSize=512m -XX:+UseCodeCacheFlushing -XX:PerMethodRecompilationCutoff=-1 -XX:PerBytecodeRecompilationCutoff=-1 -Djava.security.properties=/databricks/spark/dbconf/java/extra.security -XX:-UseContainerSupport -XX:+PrintFlagsFinal -XX:+PrintGCDateStamps -XX:+PrintGCDetails -verbose:gc -Xss4m -Djava.library.path=/usr/java/packages/lib/amd64:/usr/lib64:/lib64:/lib:/usr/lib:/usr/lib/x86_64-linux-gnu/jni:/lib/x86_64-linux-gnu:/usr/lib/x86_64-linux-gnu:/usr/lib/jni -Djavax.xml.datatype.DatatypeFactory=com.sun.org.apache.xerces.internal.jaxp.datatype.DatatypeFactoryImpl -Djavax.xml.parsers.DocumentBuilderFactory=com.sun.org.apache.xerces.internal.jaxp.DocumentBuilderFactoryImpl -Djavax.xml.parsers.SAXParserFactory=com.sun.org.apache.xerces.internal.jaxp.SAXParserFactoryImpl -Djavax.xml.validation.SchemaFactory:http://www.w3.org/2001/XMLSchema=com.sun.org.apache.xerces.internal.jaxp.validation.XMLSchemaFactory -Dorg.xml.sax.driver=com.sun.org.apache.xerces.internal.parsers.SAXParser -Dorg.w3c.dom.DOMImplementationSourceList=com.sun.org.apache.xerces.internal.dom.DOMXSImplementationSourceImpl -Djavax.net.ssl.sessionCacheSize=10000 -Dscala.reflect.runtime.disable.typetag.cache=true -Dcom.google.cloud.spark.bigquery.repackaged.io.netty.tryReflectionSetAccessible=true -Dlog4j2.formatMsgNoLookups=true   -Ddatabricks.serviceName=spark-executor-1\" -Dspark.executor.memory=8278m -Dspark.executor.extraClassPath=/databricks/spark/dbconf/log4j/executor:/databricks/spark/dbconf/jets3t/:/databricks/spark/dbconf/hadoop:/databricks/hive/conf:/databricks/jars/*',\n 'SUDO_COMMAND': '/usr/bin/lxc-attach -n 0113-132359-ef44u2nk_10_172_191_33 -- env DB_HOME=/databricks CLUSTER_DB_HOME=/databricks bash -l -c bash ${DB_HOME:-/home/ubuntu/databricks}/spark/scripts/start_chauffeur.sh /tmp/chauffeur-env.sh',\n 'SUDO_USER': 'root',\n 'DATA_SECURITY_MODE': 'LEGACY_SINGLE_USER_STANDARD',\n 'PWD': '/databricks/driver',\n 'LOGNAME': 'root',\n 'DB_HOME': '/databricks',\n 'KOALAS_USAGE_LOGGER': 'pyspark.databricks.koalas.usage_logger',\n 'PYARROW_IGNORE_TIMEZONE': '1',\n 'container': 'lxc',\n 'HIVE_HOME': '/home/ubuntu/hive-0.9.0-bin',\n 'DRIVER_PID_FILE': '/tmp/driver-daemon.pid',\n 'HOME': '/root',\n 'DEFAULT_DATABRICKS_ROOT_VIRTUALENV_ENV': '/databricks/python3',\n 'LANG': 'C.UTF-8',\n 'MLFLOW_TRACKING_URI': 'databricks',\n 'R_LIBS': '/databricks/spark/R/lib:/local_disk0/.ephemeral_nfs/cluster_libraries/r',\n 'VIRTUAL_ENV': '/local_disk0/.ephemeral_nfs/envs/pythonEnv-de8c8840-fe84-47be-b083-a001f22d1928',\n 'DATABRICKS_CLUSTER_LIBS_R_ROOT_DIR': 'r',\n 'CLUSTER_DB_HOME': '/databricks',\n 'PYSPARK_GATEWAY_SECRET': '<hidden>',\n 'DATABRICKS_RUNTIME_VERSION': '12.2',\n 'PYSPARK_PYTHON': '/databricks/python/bin/python',\n 'DATABRICKS_ROOT_VIRTUALENV_ENV': '/databricks/python3',\n 'PYTHONPATH': '/databricks/spark/python:/databricks/spark/python/lib/py4j-0.10.9.5-src.zip:/databricks/jars/spark--driver--driver-spark_3.3_2.12_deploy.jar:/WSFS_NOTEBOOK_DIR:/databricks/spark/python:/databricks/python_shell',\n 'TERM': 'xterm-color',\n 'USER': 'root',\n 'SPARK_PUBLIC_DNS': '10.172.191.33',\n 'SPARK_LOCAL_DIRS': '/local_disk0',\n 'PINNED_THREAD_MODE': 'true',\n 'SHLVL': '0',\n 'MASTER': 'local[8]',\n 'SPARK_HOME': '/databricks/spark',\n 'SPARK_LOCAL_IP': '10.172.191.33',\n 'MLFLOW_CONDA_HOME': '/databricks/conda',\n 'PYSPARK_GATEWAY_PORT': '45015',\n 'MPLBACKEND': 'AGG',\n 'CLASSPATH': '/databricks/spark/dbconf/jets3t/:/databricks/spark/dbconf/log4j/driver:/databricks/hive/conf:/databricks/spark/dbconf/hadoop:/databricks/jars/*',\n 'SPARK_CONF_DIR': '/databricks/spark/conf',\n 'SPARK_DIST_CLASSPATH': '/databricks/spark/dbconf/log4j/driver:/databricks/jars/*',\n 'PS1': '(pythonEnv-de8c8840-fe84-47be-b083-a001f22d1928) ',\n 'PYENV_ROOT': '/databricks/.pyenv',\n 'ENABLE_IPTABLES': 'false',\n 'JUPYTER_WIDGETS_ECHO': '1',\n 'DATABRICKS_LIBS_NFS_ROOT_PATH': '/local_disk0/.ephemeral_nfs',\n 'SPARK_ENV_LOADED': '1',\n 'DATABRICKS_CLUSTER_LIBS_ROOT_DIR': 'cluster_libraries',\n 'PATH': '/local_disk0/.ephemeral_nfs/envs/pythonEnv-de8c8840-fe84-47be-b083-a001f22d1928/bin:/local_disk0/.ephemeral_nfs/cluster_libraries/python/bin:/databricks/.pyenv/bin:/usr/local/nvidia/bin:/databricks/python3/bin:/usr/local/sbin:/usr/local/bin:/usr/sbin:/usr/bin:/sbin:/bin:/snap/bin',\n 'DATABRICKS_LIBS_NFS_ROOT_DIR': '.ephemeral_nfs',\n 'SUDO_UID': '0',\n 'DATABRICKS_CLUSTER_LIBS_PYTHON_ROOT_DIR': 'python',\n 'SPARK_SCALA_VERSION': '2.12',\n 'MAIL': '/var/mail/root',\n 'SCALA_VERSION': '2.10',\n 'LOW_PRIVILEGED_LIBRARY_INSTALLATION_USER': 'libraries',\n 'OLDPWD': '/databricks/chauffeur',\n 'SPARK_WORKER_MEMORY': '10348m',\n 'PYDEVD_USE_FRAME_EVAL': 'NO',\n 'SPARK_AUTH_SOCKET_TIMEOUT': '15',\n 'SPARK_BUFFER_SIZE': '65536',\n 'CLICOLOR': '1',\n 'PAGER': 'cat',\n 'GIT_PAGER': 'cat',\n 'GROQ_API_KEY': '<hidden>',\n 'MLFLOW_EXPERIMENT_ID': '2214063680159079',\n 'KMP_DUPLICATE_LIB_OK': 'True',\n 'KMP_INIT_AT_FORK': 'FALSE'}"
     ]
    }
   ],
   "source": [
    "%env"
   ]
  },
  {
   "cell_type": "code",
   "execution_count": 0,
   "metadata": {
    "application/vnd.databricks.v1+cell": {
     "cellMetadata": {
      "byteLimit": 2048000,
      "rowLimit": 10000
     },
     "inputWidgets": {},
     "nuid": "b00609ed-d562-4435-9d0a-e27f6d736c54",
     "showTitle": false,
     "tableResultSettingsMap": {},
     "title": ""
    }
   },
   "outputs": [
    {
     "output_type": "stream",
     "name": "stdout",
     "output_type": "stream",
     "text": [
      "🏃 View run clumsy-fowl-688 at: https://community.cloud.databricks.com/ml/experiments/2214063680159079/runs/4ab006663398406f81354ba8e64ba768\n🧪 View experiment at: https://community.cloud.databricks.com/ml/experiments/2214063680159079\nQ: How do you create a run with MLflow?\nA: To create a run with MLflow, you need to follow these steps: \n\n1. Import the MLflow library.\n2. Create an experiment using `mlflow.create_experiment()`.\n3. Start a run using `mlflow.start_run()`.\n4. Log your parameters, metrics, and models using `mlflow.log_param()`, `mlflow.log_metric()`, and `mlflow.log_model()`.\n5. End the run using `mlflow.end_run()`.\n\nHere's a simple example:\n```\nimport mlflow\n\nmlflow.set_experiment(\"My Experiment\")\nwith mlflow.start_run():\n    mlflow.log_param(\"param1\", 1)\n    mlflow.log_metric(\"metric1\", 0.5)\n```\n\nQ: How do you log a model with MLflow?\nA: To log a model with MLflow, you can use the `mlflow.log_model` function. Here's a simple example:\n\n```\nimport mlflow\nfrom sklearn.ensemble import RandomForestClassifier\nfrom sklearn.datasets import load_iris\nfrom sklearn.model_selection import train_test_split\n\n# Load iris dataset\niris = load_iris()\nX = iris.data\ny = iris.target\n\n# Split data into training and test sets\nX_train, X_test, y_train, y_test = train_test_split(X, y, test_size=0.2, random_state=42)\n\n# Train a model\nmodel = RandomForestClassifier(n_estimators=10)\nmodel.fit(X_train, y_train)\n\n# Log the model\nwith mlflow.start_run():\n    mlflow.log_model(model, \"random_forest_model\")\n```\n\nThis code trains a simple random forest classifier and logs it to MLflow. The `mlflow.start_run` function starts a new run, and `mlflow.log_model` logs the model to that run.\n\nQ: What is the capital of France?\nA: The capital of France is Paris.\n\n"
     ]
    }
   ],
   "source": [
    "import mlflow\n",
    "import os\n",
    "import pandas as pd\n",
    "\n",
    "from groq import Groq\n",
    "\n",
    "client = Groq(\n",
    "    api_key=\"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\",\n",
    ")\n",
    "\n",
    "# set the experiment id\n",
    "mlflow.set_experiment(experiment_id=\"2214063680159079\")\n",
    "\n",
    "system_prompt = (\n",
    "  \"The following is a conversation with an AI assistant.\"\n",
    "  + \"The assistant is helpful and very friendly.\" +\n",
    "  \"You are an expert of Machine Learning and provide responses to the user in a simplified manner, do not be too verbose.\"\n",
    ")\n",
    "\n",
    "# Define the questions\n",
    "questions = [\n",
    "    \"How do you create a run with MLflow?\",\n",
    "    \"How do you log a model with MLflow?\",\n",
    "    \"What is the capital of France?\",\n",
    "]\n",
    "\n",
    "# Run inference\n",
    "responses = []\n",
    "for question in questions:\n",
    "    response = chat_completion = client.chat.completions.create(\n",
    "        messages=[\n",
    "            {\n",
    "                \"role\": \"system\",\n",
    "                \"content\": system_prompt\n",
    "            },\n",
    "            {\n",
    "                \"role\": \"user\",\n",
    "                \"content\": question,\n",
    "            }\n",
    "        ],\n",
    "        model=\"llama-3.3-70b-versatile\",\n",
    "    )\n",
    "\n",
    "    responses.append(chat_completion.choices[0].message.content)\n",
    "\n",
    "# Log the results to MLflow\n",
    "mlflow.end_run()\n",
    "mlflow.start_run()\n",
    "mlflow.log_param(\"system_prompt\", system_prompt)\n",
    "for i, (question, response) in enumerate(zip(questions, responses)):\n",
    "    mlflow.log_param(f\"question_{i+1}\", question)\n",
    "    mlflow.log_param(f\"response_{i+1}\", response)\n",
    "mlflow.end_run()\n",
    "\n",
    "# Print the responses\n",
    "for question, response in zip(questions, responses):\n",
    "    print(f\"Q: {question}\\nA: {response}\\n\")"
   ]
  }
 ],
 "metadata": {
  "application/vnd.databricks.v1+notebook": {
   "computePreferences": null,
   "dashboards": [],
   "environmentMetadata": {
    "base_environment": "",
    "client": "1"
   },
   "language": "python",
   "notebookMetadata": {
    "pythonIndentUnit": 4
   },
   "notebookName": "groq_llama_eval",
   "widgets": {}
  }
 },
 "nbformat": 4,
 "nbformat_minor": 0
}
